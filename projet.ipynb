{
 "cells": [
  {
   "cell_type": "code",
   "execution_count": 1,
   "metadata": {},
   "outputs": [
    {
     "name": "stdout",
     "output_type": "stream",
     "text": [
      "Python 3.10.11\n",
      "Requirement already satisfied: pip in c:\\users\\dewey\\desktop\\l3\\fairness\\projet\\myenv\\lib\\site-packages (23.0.1)\n",
      "Collecting pip\n",
      "  Using cached pip-25.0.1-py3-none-any.whl (1.8 MB)\n"
     ]
    },
    {
     "name": "stderr",
     "output_type": "stream",
     "text": [
      "WARNING: Ignoring invalid distribution -yzmq (c:\\users\\dewey\\desktop\\l3\\fairness\\projet\\myenv\\lib\\site-packages)\n",
      "WARNING: Ignoring invalid distribution -yzmq (c:\\users\\dewey\\desktop\\l3\\fairness\\projet\\myenv\\lib\\site-packages)\n",
      "ERROR: To modify pip, please run the following command:\n",
      "C:\\Users\\dewey\\Desktop\\L3\\Fairness\\Projet\\myenv\\Scripts\\python.exe -m pip install --upgrade pip\n",
      "WARNING: Ignoring invalid distribution -yzmq (c:\\users\\dewey\\desktop\\l3\\fairness\\projet\\myenv\\lib\\site-packages)\n",
      "WARNING: Ignoring invalid distribution -yzmq (c:\\users\\dewey\\desktop\\l3\\fairness\\projet\\myenv\\lib\\site-packages)\n",
      "WARNING: Ignoring invalid distribution -yzmq (c:\\users\\dewey\\desktop\\l3\\fairness\\projet\\myenv\\lib\\site-packages)\n",
      "\n",
      "[notice] A new release of pip is available: 23.0.1 -> 25.0.1\n",
      "[notice] To update, run: python.exe -m pip install --upgrade pip\n"
     ]
    },
    {
     "name": "stdout",
     "output_type": "stream",
     "text": [
      "Requirement already satisfied: numpy==1.25 in c:\\users\\dewey\\desktop\\l3\\fairness\\projet\\myenv\\lib\\site-packages (1.25.0)\n"
     ]
    },
    {
     "name": "stderr",
     "output_type": "stream",
     "text": [
      "WARNING: Ignoring invalid distribution -yzmq (c:\\users\\dewey\\desktop\\l3\\fairness\\projet\\myenv\\lib\\site-packages)\n",
      "WARNING: Ignoring invalid distribution -yzmq (c:\\users\\dewey\\desktop\\l3\\fairness\\projet\\myenv\\lib\\site-packages)\n",
      "WARNING: Ignoring invalid distribution -yzmq (c:\\users\\dewey\\desktop\\l3\\fairness\\projet\\myenv\\lib\\site-packages)\n",
      "WARNING: Ignoring invalid distribution -yzmq (c:\\users\\dewey\\desktop\\l3\\fairness\\projet\\myenv\\lib\\site-packages)\n",
      "WARNING: Ignoring invalid distribution -yzmq (c:\\users\\dewey\\desktop\\l3\\fairness\\projet\\myenv\\lib\\site-packages)\n",
      "WARNING: Ignoring invalid distribution -yzmq (c:\\users\\dewey\\desktop\\l3\\fairness\\projet\\myenv\\lib\\site-packages)\n",
      "\n",
      "[notice] A new release of pip is available: 23.0.1 -> 25.0.1\n",
      "[notice] To update, run: python.exe -m pip install --upgrade pip\n"
     ]
    },
    {
     "name": "stdout",
     "output_type": "stream",
     "text": [
      "Requirement already satisfied: fairlearn==0.9.0 in c:\\users\\dewey\\desktop\\l3\\fairness\\projet\\myenv\\lib\\site-packages (0.9.0)\n",
      "Requirement already satisfied: scikit-learn>=0.22.1 in c:\\users\\dewey\\desktop\\l3\\fairness\\projet\\myenv\\lib\\site-packages (from fairlearn==0.9.0) (1.6.1)\n",
      "Requirement already satisfied: pandas>=0.25.2 in c:\\users\\dewey\\desktop\\l3\\fairness\\projet\\myenv\\lib\\site-packages (from fairlearn==0.9.0) (2.2.3)\n",
      "Requirement already satisfied: numpy>=1.18.0 in c:\\users\\dewey\\desktop\\l3\\fairness\\projet\\myenv\\lib\\site-packages (from fairlearn==0.9.0) (1.25.0)\n",
      "Requirement already satisfied: scipy>=1.5.0 in c:\\users\\dewey\\desktop\\l3\\fairness\\projet\\myenv\\lib\\site-packages (from fairlearn==0.9.0) (1.15.1)\n",
      "Requirement already satisfied: pytz>=2020.1 in c:\\users\\dewey\\desktop\\l3\\fairness\\projet\\myenv\\lib\\site-packages (from pandas>=0.25.2->fairlearn==0.9.0) (2025.1)\n",
      "Requirement already satisfied: tzdata>=2022.7 in c:\\users\\dewey\\desktop\\l3\\fairness\\projet\\myenv\\lib\\site-packages (from pandas>=0.25.2->fairlearn==0.9.0) (2025.1)\n",
      "Requirement already satisfied: python-dateutil>=2.8.2 in c:\\users\\dewey\\desktop\\l3\\fairness\\projet\\myenv\\lib\\site-packages (from pandas>=0.25.2->fairlearn==0.9.0) (2.9.0.post0)\n",
      "Requirement already satisfied: joblib>=1.2.0 in c:\\users\\dewey\\desktop\\l3\\fairness\\projet\\myenv\\lib\\site-packages (from scikit-learn>=0.22.1->fairlearn==0.9.0) (1.4.2)\n",
      "Requirement already satisfied: threadpoolctl>=3.1.0 in c:\\users\\dewey\\desktop\\l3\\fairness\\projet\\myenv\\lib\\site-packages (from scikit-learn>=0.22.1->fairlearn==0.9.0) (3.5.0)\n",
      "Requirement already satisfied: six>=1.5 in c:\\users\\dewey\\desktop\\l3\\fairness\\projet\\myenv\\lib\\site-packages (from python-dateutil>=2.8.2->pandas>=0.25.2->fairlearn==0.9.0) (1.17.0)\n"
     ]
    },
    {
     "name": "stderr",
     "output_type": "stream",
     "text": [
      "WARNING: Ignoring invalid distribution -yzmq (c:\\users\\dewey\\desktop\\l3\\fairness\\projet\\myenv\\lib\\site-packages)\n",
      "WARNING: Ignoring invalid distribution -yzmq (c:\\users\\dewey\\desktop\\l3\\fairness\\projet\\myenv\\lib\\site-packages)\n",
      "WARNING: Ignoring invalid distribution -yzmq (c:\\users\\dewey\\desktop\\l3\\fairness\\projet\\myenv\\lib\\site-packages)\n",
      "WARNING: Ignoring invalid distribution -yzmq (c:\\users\\dewey\\desktop\\l3\\fairness\\projet\\myenv\\lib\\site-packages)\n",
      "WARNING: Ignoring invalid distribution -yzmq (c:\\users\\dewey\\desktop\\l3\\fairness\\projet\\myenv\\lib\\site-packages)\n",
      "WARNING: Ignoring invalid distribution -yzmq (c:\\users\\dewey\\desktop\\l3\\fairness\\projet\\myenv\\lib\\site-packages)\n",
      "\n",
      "[notice] A new release of pip is available: 23.0.1 -> 25.0.1\n",
      "[notice] To update, run: python.exe -m pip install --upgrade pip\n"
     ]
    },
    {
     "name": "stdout",
     "output_type": "stream",
     "text": [
      "Requirement already satisfied: plotly==5.24.1 in c:\\users\\dewey\\desktop\\l3\\fairness\\projet\\myenv\\lib\\site-packages (5.24.1)\n",
      "Requirement already satisfied: packaging in c:\\users\\dewey\\desktop\\l3\\fairness\\projet\\myenv\\lib\\site-packages (from plotly==5.24.1) (24.2)\n",
      "Requirement already satisfied: tenacity>=6.2.0 in c:\\users\\dewey\\desktop\\l3\\fairness\\projet\\myenv\\lib\\site-packages (from plotly==5.24.1) (9.0.0)\n"
     ]
    },
    {
     "name": "stderr",
     "output_type": "stream",
     "text": [
      "WARNING: Ignoring invalid distribution -yzmq (c:\\users\\dewey\\desktop\\l3\\fairness\\projet\\myenv\\lib\\site-packages)\n",
      "WARNING: Ignoring invalid distribution -yzmq (c:\\users\\dewey\\desktop\\l3\\fairness\\projet\\myenv\\lib\\site-packages)\n",
      "WARNING: Ignoring invalid distribution -yzmq (c:\\users\\dewey\\desktop\\l3\\fairness\\projet\\myenv\\lib\\site-packages)\n",
      "WARNING: Ignoring invalid distribution -yzmq (c:\\users\\dewey\\desktop\\l3\\fairness\\projet\\myenv\\lib\\site-packages)\n",
      "WARNING: Ignoring invalid distribution -yzmq (c:\\users\\dewey\\desktop\\l3\\fairness\\projet\\myenv\\lib\\site-packages)\n",
      "WARNING: Ignoring invalid distribution -yzmq (c:\\users\\dewey\\desktop\\l3\\fairness\\projet\\myenv\\lib\\site-packages)\n",
      "\n",
      "[notice] A new release of pip is available: 23.0.1 -> 25.0.1\n",
      "[notice] To update, run: python.exe -m pip install --upgrade pip\n"
     ]
    },
    {
     "name": "stdout",
     "output_type": "stream",
     "text": [
      "Requirement already satisfied: nbformat==5.10.4 in c:\\users\\dewey\\desktop\\l3\\fairness\\projet\\myenv\\lib\\site-packages (5.10.4)\n",
      "Requirement already satisfied: jsonschema>=2.6 in c:\\users\\dewey\\desktop\\l3\\fairness\\projet\\myenv\\lib\\site-packages (from nbformat==5.10.4) (4.23.0)\n",
      "Requirement already satisfied: traitlets>=5.1 in c:\\users\\dewey\\desktop\\l3\\fairness\\projet\\myenv\\lib\\site-packages (from nbformat==5.10.4) (5.14.3)\n",
      "Requirement already satisfied: fastjsonschema>=2.15 in c:\\users\\dewey\\desktop\\l3\\fairness\\projet\\myenv\\lib\\site-packages (from nbformat==5.10.4) (2.21.1)\n",
      "Requirement already satisfied: jupyter-core!=5.0.*,>=4.12 in c:\\users\\dewey\\desktop\\l3\\fairness\\projet\\myenv\\lib\\site-packages (from nbformat==5.10.4) (5.7.2)\n",
      "Requirement already satisfied: rpds-py>=0.7.1 in c:\\users\\dewey\\desktop\\l3\\fairness\\projet\\myenv\\lib\\site-packages (from jsonschema>=2.6->nbformat==5.10.4) (0.22.3)\n",
      "Requirement already satisfied: attrs>=22.2.0 in c:\\users\\dewey\\desktop\\l3\\fairness\\projet\\myenv\\lib\\site-packages (from jsonschema>=2.6->nbformat==5.10.4) (25.1.0)\n",
      "Requirement already satisfied: referencing>=0.28.4 in c:\\users\\dewey\\desktop\\l3\\fairness\\projet\\myenv\\lib\\site-packages (from jsonschema>=2.6->nbformat==5.10.4) (0.36.2)\n",
      "Requirement already satisfied: jsonschema-specifications>=2023.03.6 in c:\\users\\dewey\\desktop\\l3\\fairness\\projet\\myenv\\lib\\site-packages (from jsonschema>=2.6->nbformat==5.10.4) (2024.10.1)\n",
      "Requirement already satisfied: platformdirs>=2.5 in c:\\users\\dewey\\desktop\\l3\\fairness\\projet\\myenv\\lib\\site-packages (from jupyter-core!=5.0.*,>=4.12->nbformat==5.10.4) (4.3.6)\n",
      "Requirement already satisfied: pywin32>=300 in c:\\users\\dewey\\desktop\\l3\\fairness\\projet\\myenv\\lib\\site-packages (from jupyter-core!=5.0.*,>=4.12->nbformat==5.10.4) (308)\n",
      "Requirement already satisfied: typing-extensions>=4.4.0 in c:\\users\\dewey\\desktop\\l3\\fairness\\projet\\myenv\\lib\\site-packages (from referencing>=0.28.4->jsonschema>=2.6->nbformat==5.10.4) (4.12.2)\n"
     ]
    },
    {
     "name": "stderr",
     "output_type": "stream",
     "text": [
      "WARNING: Ignoring invalid distribution -yzmq (c:\\users\\dewey\\desktop\\l3\\fairness\\projet\\myenv\\lib\\site-packages)\n",
      "WARNING: Ignoring invalid distribution -yzmq (c:\\users\\dewey\\desktop\\l3\\fairness\\projet\\myenv\\lib\\site-packages)\n",
      "WARNING: Ignoring invalid distribution -yzmq (c:\\users\\dewey\\desktop\\l3\\fairness\\projet\\myenv\\lib\\site-packages)\n",
      "WARNING: Ignoring invalid distribution -yzmq (c:\\users\\dewey\\desktop\\l3\\fairness\\projet\\myenv\\lib\\site-packages)\n",
      "WARNING: Ignoring invalid distribution -yzmq (c:\\users\\dewey\\desktop\\l3\\fairness\\projet\\myenv\\lib\\site-packages)\n",
      "WARNING: Ignoring invalid distribution -yzmq (c:\\users\\dewey\\desktop\\l3\\fairness\\projet\\myenv\\lib\\site-packages)\n",
      "\n",
      "[notice] A new release of pip is available: 23.0.1 -> 25.0.1\n",
      "[notice] To update, run: python.exe -m pip install --upgrade pip\n"
     ]
    },
    {
     "name": "stdout",
     "output_type": "stream",
     "text": [
      "Requirement already satisfied: ipykernel==6.29.5 in c:\\users\\dewey\\desktop\\l3\\fairness\\projet\\myenv\\lib\\site-packages (6.29.5)\n",
      "Requirement already satisfied: nest-asyncio in c:\\users\\dewey\\desktop\\l3\\fairness\\projet\\myenv\\lib\\site-packages (from ipykernel==6.29.5) (1.6.0)\n",
      "Requirement already satisfied: psutil in c:\\users\\dewey\\desktop\\l3\\fairness\\projet\\myenv\\lib\\site-packages (from ipykernel==6.29.5) (6.1.1)\n",
      "Requirement already satisfied: traitlets>=5.4.0 in c:\\users\\dewey\\desktop\\l3\\fairness\\projet\\myenv\\lib\\site-packages (from ipykernel==6.29.5) (5.14.3)\n",
      "Requirement already satisfied: comm>=0.1.1 in c:\\users\\dewey\\desktop\\l3\\fairness\\projet\\myenv\\lib\\site-packages (from ipykernel==6.29.5) (0.2.2)\n",
      "Requirement already satisfied: matplotlib-inline>=0.1 in c:\\users\\dewey\\desktop\\l3\\fairness\\projet\\myenv\\lib\\site-packages (from ipykernel==6.29.5) (0.1.7)\n",
      "Requirement already satisfied: ipython>=7.23.1 in c:\\users\\dewey\\desktop\\l3\\fairness\\projet\\myenv\\lib\\site-packages (from ipykernel==6.29.5) (8.32.0)\n",
      "Requirement already satisfied: pyzmq>=24 in c:\\users\\dewey\\desktop\\l3\\fairness\\projet\\myenv\\lib\\site-packages (from ipykernel==6.29.5) (24.0.1)\n",
      "Requirement already satisfied: jupyter-client>=6.1.12 in c:\\users\\dewey\\desktop\\l3\\fairness\\projet\\myenv\\lib\\site-packages (from ipykernel==6.29.5) (7.4.9)\n",
      "Requirement already satisfied: tornado>=6.1 in c:\\users\\dewey\\desktop\\l3\\fairness\\projet\\myenv\\lib\\site-packages (from ipykernel==6.29.5) (6.4.2)\n",
      "Requirement already satisfied: packaging in c:\\users\\dewey\\desktop\\l3\\fairness\\projet\\myenv\\lib\\site-packages (from ipykernel==6.29.5) (24.2)\n",
      "Requirement already satisfied: jupyter-core!=5.0.*,>=4.12 in c:\\users\\dewey\\desktop\\l3\\fairness\\projet\\myenv\\lib\\site-packages (from ipykernel==6.29.5) (5.7.2)\n",
      "Requirement already satisfied: debugpy>=1.6.5 in c:\\users\\dewey\\desktop\\l3\\fairness\\projet\\myenv\\lib\\site-packages (from ipykernel==6.29.5) (1.8.12)\n",
      "Requirement already satisfied: typing_extensions>=4.6 in c:\\users\\dewey\\desktop\\l3\\fairness\\projet\\myenv\\lib\\site-packages (from ipython>=7.23.1->ipykernel==6.29.5) (4.12.2)\n",
      "Requirement already satisfied: stack_data in c:\\users\\dewey\\desktop\\l3\\fairness\\projet\\myenv\\lib\\site-packages (from ipython>=7.23.1->ipykernel==6.29.5) (0.6.3)\n",
      "Requirement already satisfied: colorama in c:\\users\\dewey\\desktop\\l3\\fairness\\projet\\myenv\\lib\\site-packages (from ipython>=7.23.1->ipykernel==6.29.5) (0.4.6)\n",
      "Requirement already satisfied: pygments>=2.4.0 in c:\\users\\dewey\\desktop\\l3\\fairness\\projet\\myenv\\lib\\site-packages (from ipython>=7.23.1->ipykernel==6.29.5) (2.19.1)\n",
      "Requirement already satisfied: jedi>=0.16 in c:\\users\\dewey\\desktop\\l3\\fairness\\projet\\myenv\\lib\\site-packages (from ipython>=7.23.1->ipykernel==6.29.5) (0.19.2)\n",
      "Requirement already satisfied: exceptiongroup in c:\\users\\dewey\\desktop\\l3\\fairness\\projet\\myenv\\lib\\site-packages (from ipython>=7.23.1->ipykernel==6.29.5) (1.2.2)\n",
      "Requirement already satisfied: decorator in c:\\users\\dewey\\desktop\\l3\\fairness\\projet\\myenv\\lib\\site-packages (from ipython>=7.23.1->ipykernel==6.29.5) (5.1.1)\n",
      "Requirement already satisfied: prompt_toolkit<3.1.0,>=3.0.41 in c:\\users\\dewey\\desktop\\l3\\fairness\\projet\\myenv\\lib\\site-packages (from ipython>=7.23.1->ipykernel==6.29.5) (3.0.50)\n",
      "Requirement already satisfied: python-dateutil>=2.8.2 in c:\\users\\dewey\\desktop\\l3\\fairness\\projet\\myenv\\lib\\site-packages (from jupyter-client>=6.1.12->ipykernel==6.29.5) (2.9.0.post0)\n",
      "Requirement already satisfied: entrypoints in c:\\users\\dewey\\desktop\\l3\\fairness\\projet\\myenv\\lib\\site-packages (from jupyter-client>=6.1.12->ipykernel==6.29.5) (0.4)\n",
      "Requirement already satisfied: platformdirs>=2.5 in c:\\users\\dewey\\desktop\\l3\\fairness\\projet\\myenv\\lib\\site-packages (from jupyter-core!=5.0.*,>=4.12->ipykernel==6.29.5) (4.3.6)\n",
      "Requirement already satisfied: pywin32>=300 in c:\\users\\dewey\\desktop\\l3\\fairness\\projet\\myenv\\lib\\site-packages (from jupyter-core!=5.0.*,>=4.12->ipykernel==6.29.5) (308)\n",
      "Requirement already satisfied: parso<0.9.0,>=0.8.4 in c:\\users\\dewey\\desktop\\l3\\fairness\\projet\\myenv\\lib\\site-packages (from jedi>=0.16->ipython>=7.23.1->ipykernel==6.29.5) (0.8.4)\n",
      "Requirement already satisfied: wcwidth in c:\\users\\dewey\\desktop\\l3\\fairness\\projet\\myenv\\lib\\site-packages (from prompt_toolkit<3.1.0,>=3.0.41->ipython>=7.23.1->ipykernel==6.29.5) (0.2.13)\n",
      "Requirement already satisfied: six>=1.5 in c:\\users\\dewey\\desktop\\l3\\fairness\\projet\\myenv\\lib\\site-packages (from python-dateutil>=2.8.2->jupyter-client>=6.1.12->ipykernel==6.29.5) (1.17.0)\n",
      "Requirement already satisfied: executing>=1.2.0 in c:\\users\\dewey\\desktop\\l3\\fairness\\projet\\myenv\\lib\\site-packages (from stack_data->ipython>=7.23.1->ipykernel==6.29.5) (2.2.0)\n",
      "Requirement already satisfied: pure-eval in c:\\users\\dewey\\desktop\\l3\\fairness\\projet\\myenv\\lib\\site-packages (from stack_data->ipython>=7.23.1->ipykernel==6.29.5) (0.2.3)\n",
      "Requirement already satisfied: asttokens>=2.1.0 in c:\\users\\dewey\\desktop\\l3\\fairness\\projet\\myenv\\lib\\site-packages (from stack_data->ipython>=7.23.1->ipykernel==6.29.5) (3.0.0)\n"
     ]
    },
    {
     "name": "stderr",
     "output_type": "stream",
     "text": [
      "WARNING: Ignoring invalid distribution -yzmq (c:\\users\\dewey\\desktop\\l3\\fairness\\projet\\myenv\\lib\\site-packages)\n",
      "WARNING: Ignoring invalid distribution -yzmq (c:\\users\\dewey\\desktop\\l3\\fairness\\projet\\myenv\\lib\\site-packages)\n",
      "WARNING: Ignoring invalid distribution -yzmq (c:\\users\\dewey\\desktop\\l3\\fairness\\projet\\myenv\\lib\\site-packages)\n",
      "WARNING: Ignoring invalid distribution -yzmq (c:\\users\\dewey\\desktop\\l3\\fairness\\projet\\myenv\\lib\\site-packages)\n",
      "WARNING: Ignoring invalid distribution -yzmq (c:\\users\\dewey\\desktop\\l3\\fairness\\projet\\myenv\\lib\\site-packages)\n",
      "WARNING: Ignoring invalid distribution -yzmq (c:\\users\\dewey\\desktop\\l3\\fairness\\projet\\myenv\\lib\\site-packages)\n",
      "\n",
      "[notice] A new release of pip is available: 23.0.1 -> 25.0.1\n",
      "[notice] To update, run: python.exe -m pip install --upgrade pip\n"
     ]
    }
   ],
   "source": [
    "!python --version\n",
    "!pip install --upgrade pip\n",
    "!pip install numpy==1.25\n",
    "!pip install fairlearn==0.9.0\n",
    "!pip install plotly==5.24.1\n",
    "!pip install nbformat==5.10.4\n",
    "!pip install ipykernel==6.29.5"
   ]
  },
  {
   "cell_type": "code",
   "execution_count": 2,
   "metadata": {},
   "outputs": [
    {
     "data": {
      "text/plain": [
       "('1.25.0', '0.9.0')"
      ]
     },
     "execution_count": 2,
     "metadata": {},
     "output_type": "execute_result"
    }
   ],
   "source": [
    "import numpy as np\n",
    "import pandas as plt\n",
    "import pandas as pd\n",
    "import matplotlib.pyplot as plt\n",
    "import seaborn as sns\n",
    "import fairlearn\n",
    "from statsmodels.graphics.mosaicplot import mosaic\n",
    "from scipy.stats import spearmanr, pearsonr\n",
    "from statsmodels.graphics.mosaicplot import mosaic\n",
    "from sklearn.preprocessing import LabelEncoder\n",
    "import plotly.express as px\n",
    "import warnings\n",
    "\n",
    "warnings.simplefilter(action=\"ignore\", category=FutureWarning)\n",
    "warnings.simplefilter(action=\"ignore\", append=True, category=UserWarning)\n",
    "\n",
    "# Datasets\n",
    "from aif360.datasets import MEPSDataset19\n",
    "from aif360.explainers import MetricTextExplainer\n",
    "\n",
    "# Fairness metrics\n",
    "from aif360.metrics import BinaryLabelDatasetMetric\n",
    "from aif360.metrics import ClassificationMetric\n",
    "from sklearn.metrics import accuracy_score, balanced_accuracy_score\n",
    "from aif360.datasets import BinaryLabelDataset\n",
    "from aif360.algorithms.preprocessing import DisparateImpactRemover\n",
    "from aif360.algorithms.preprocessing import Reweighing\n",
    "\n",
    "np.__version__, fairlearn.__version__\n"
   ]
  },
  {
   "cell_type": "markdown",
   "metadata": {},
   "source": [
    "# Introduction"
   ]
  },
  {
   "cell_type": "markdown",
   "metadata": {},
   "source": [
    "Notre  jeu de données est un extrait du jeu de données \"Chest X ray NIH 14 Dataset\" qui est un Dataset d’image de rayons X, fourni avec de nombreuses informations sur les\n",
    "personnes (notamment age, genre, maladies). Notre extrait contient 55552 lignes correspondant à des diagnostics, avec possiblement des personnes présentes dans plusieurs cas. Chaque donnée possède 12 caractéristiques concernant des informations et précisions médicales, ainsi que des informations personnels sur les patients.\n",
    "Les principales caractéristiques de notre jeu de données sont :\n",
    "- Image Index : Une image rayon X\n",
    "- Finding labels : Libellé(s) des diagnostics\n",
    "- Follow-up : Suivis du médecin\n",
    "- Patient ID : Identifiant unique du patient\n",
    "- Patient Age : Age du patient\n",
    "- Patient Gender : Le gendre du patient\n",
    "- View Position\t: Position de la prise de vue\n",
    "- OriginalImage Width : largeur de l'image rayon X\n",
    "- OriginalImage Height : hauteur de l'image rayon X\n",
    "- OriginalImagePixelSpacing x : Distance physique représentée par un pixel sur l’axe horizontal \n",
    "- OriginalImagePixelSpacing y : Distance physique représentée par un pixel sur l’axe vertical\n",
    "- Unnamed: 11 : Une colonne sans informations ( et donc sans réels interêt )\n",
    "\n",
    "    L'objectif du projet est de trouver des biais dans notre jeu de données, grâce à l'analyse\n",
    "bivariée et univariée dans un 1er temps, puis de les corriger grâce aux méthodes de pre-processing vues en cours et que l'on appliquera dans la suite du projet."
   ]
  },
  {
   "cell_type": "markdown",
   "metadata": {},
   "source": [
    "# 1 - Chargement du Jeu de données"
   ]
  },
  {
   "cell_type": "code",
   "execution_count": 34,
   "metadata": {},
   "outputs": [
    {
     "name": "stdout",
     "output_type": "stream",
     "text": [
      "(55552, 12)\n"
     ]
    },
    {
     "data": {
      "text/html": [
       "<div>\n",
       "<style scoped>\n",
       "    .dataframe tbody tr th:only-of-type {\n",
       "        vertical-align: middle;\n",
       "    }\n",
       "\n",
       "    .dataframe tbody tr th {\n",
       "        vertical-align: top;\n",
       "    }\n",
       "\n",
       "    .dataframe thead th {\n",
       "        text-align: right;\n",
       "    }\n",
       "</style>\n",
       "<table border=\"1\" class=\"dataframe\">\n",
       "  <thead>\n",
       "    <tr style=\"text-align: right;\">\n",
       "      <th></th>\n",
       "      <th>Image Index</th>\n",
       "      <th>Finding Labels</th>\n",
       "      <th>Follow-up #</th>\n",
       "      <th>Patient ID</th>\n",
       "      <th>Patient Age</th>\n",
       "      <th>Patient Gender</th>\n",
       "      <th>View Position</th>\n",
       "      <th>OriginalImage[Width</th>\n",
       "      <th>Height]</th>\n",
       "      <th>OriginalImagePixelSpacing[x</th>\n",
       "      <th>y]</th>\n",
       "      <th>Unnamed: 11</th>\n",
       "    </tr>\n",
       "  </thead>\n",
       "  <tbody>\n",
       "    <tr>\n",
       "      <th>0</th>\n",
       "      <td>00000001_000.png</td>\n",
       "      <td>Cardiomegaly</td>\n",
       "      <td>0</td>\n",
       "      <td>1</td>\n",
       "      <td>58</td>\n",
       "      <td>M</td>\n",
       "      <td>PA</td>\n",
       "      <td>2682</td>\n",
       "      <td>2749</td>\n",
       "      <td>0.143</td>\n",
       "      <td>0.143</td>\n",
       "      <td>NaN</td>\n",
       "    </tr>\n",
       "    <tr>\n",
       "      <th>1</th>\n",
       "      <td>00000001_001.png</td>\n",
       "      <td>Cardiomegaly|Emphysema</td>\n",
       "      <td>1</td>\n",
       "      <td>1</td>\n",
       "      <td>58</td>\n",
       "      <td>M</td>\n",
       "      <td>PA</td>\n",
       "      <td>2894</td>\n",
       "      <td>2729</td>\n",
       "      <td>0.143</td>\n",
       "      <td>0.143</td>\n",
       "      <td>NaN</td>\n",
       "    </tr>\n",
       "    <tr>\n",
       "      <th>2</th>\n",
       "      <td>00000001_002.png</td>\n",
       "      <td>Cardiomegaly|Effusion</td>\n",
       "      <td>2</td>\n",
       "      <td>1</td>\n",
       "      <td>58</td>\n",
       "      <td>M</td>\n",
       "      <td>PA</td>\n",
       "      <td>2500</td>\n",
       "      <td>2048</td>\n",
       "      <td>0.168</td>\n",
       "      <td>0.168</td>\n",
       "      <td>NaN</td>\n",
       "    </tr>\n",
       "    <tr>\n",
       "      <th>3</th>\n",
       "      <td>00000002_000.png</td>\n",
       "      <td>No Finding</td>\n",
       "      <td>0</td>\n",
       "      <td>2</td>\n",
       "      <td>81</td>\n",
       "      <td>M</td>\n",
       "      <td>PA</td>\n",
       "      <td>2500</td>\n",
       "      <td>2048</td>\n",
       "      <td>0.171</td>\n",
       "      <td>0.171</td>\n",
       "      <td>NaN</td>\n",
       "    </tr>\n",
       "    <tr>\n",
       "      <th>4</th>\n",
       "      <td>00000003_000.png</td>\n",
       "      <td>Hernia</td>\n",
       "      <td>0</td>\n",
       "      <td>3</td>\n",
       "      <td>81</td>\n",
       "      <td>F</td>\n",
       "      <td>PA</td>\n",
       "      <td>2582</td>\n",
       "      <td>2991</td>\n",
       "      <td>0.143</td>\n",
       "      <td>0.143</td>\n",
       "      <td>NaN</td>\n",
       "    </tr>\n",
       "    <tr>\n",
       "      <th>...</th>\n",
       "      <td>...</td>\n",
       "      <td>...</td>\n",
       "      <td>...</td>\n",
       "      <td>...</td>\n",
       "      <td>...</td>\n",
       "      <td>...</td>\n",
       "      <td>...</td>\n",
       "      <td>...</td>\n",
       "      <td>...</td>\n",
       "      <td>...</td>\n",
       "      <td>...</td>\n",
       "      <td>...</td>\n",
       "    </tr>\n",
       "    <tr>\n",
       "      <th>55547</th>\n",
       "      <td>00030798_000.png</td>\n",
       "      <td>No Finding</td>\n",
       "      <td>0</td>\n",
       "      <td>30798</td>\n",
       "      <td>30</td>\n",
       "      <td>M</td>\n",
       "      <td>PA</td>\n",
       "      <td>2500</td>\n",
       "      <td>2048</td>\n",
       "      <td>0.171</td>\n",
       "      <td>0.171</td>\n",
       "      <td>NaN</td>\n",
       "    </tr>\n",
       "    <tr>\n",
       "      <th>55548</th>\n",
       "      <td>00030801_000.png</td>\n",
       "      <td>No Finding</td>\n",
       "      <td>0</td>\n",
       "      <td>30801</td>\n",
       "      <td>39</td>\n",
       "      <td>M</td>\n",
       "      <td>PA</td>\n",
       "      <td>2500</td>\n",
       "      <td>2048</td>\n",
       "      <td>0.168</td>\n",
       "      <td>0.168</td>\n",
       "      <td>NaN</td>\n",
       "    </tr>\n",
       "    <tr>\n",
       "      <th>55549</th>\n",
       "      <td>00030801_001.png</td>\n",
       "      <td>Mass|Pneumonia</td>\n",
       "      <td>1</td>\n",
       "      <td>30801</td>\n",
       "      <td>39</td>\n",
       "      <td>M</td>\n",
       "      <td>PA</td>\n",
       "      <td>2048</td>\n",
       "      <td>2500</td>\n",
       "      <td>0.168</td>\n",
       "      <td>0.168</td>\n",
       "      <td>NaN</td>\n",
       "    </tr>\n",
       "    <tr>\n",
       "      <th>55550</th>\n",
       "      <td>00030804_000.png</td>\n",
       "      <td>No Finding</td>\n",
       "      <td>0</td>\n",
       "      <td>30804</td>\n",
       "      <td>30</td>\n",
       "      <td>F</td>\n",
       "      <td>PA</td>\n",
       "      <td>2048</td>\n",
       "      <td>2500</td>\n",
       "      <td>0.168</td>\n",
       "      <td>0.168</td>\n",
       "      <td>NaN</td>\n",
       "    </tr>\n",
       "    <tr>\n",
       "      <th>55551</th>\n",
       "      <td>00030805_000.png</td>\n",
       "      <td>No Finding</td>\n",
       "      <td>0</td>\n",
       "      <td>30805</td>\n",
       "      <td>27</td>\n",
       "      <td>M</td>\n",
       "      <td>PA</td>\n",
       "      <td>2048</td>\n",
       "      <td>2500</td>\n",
       "      <td>0.171</td>\n",
       "      <td>0.171</td>\n",
       "      <td>NaN</td>\n",
       "    </tr>\n",
       "  </tbody>\n",
       "</table>\n",
       "<p>55552 rows × 12 columns</p>\n",
       "</div>"
      ],
      "text/plain": [
       "            Image Index          Finding Labels  Follow-up #  Patient ID  \\\n",
       "0      00000001_000.png            Cardiomegaly            0           1   \n",
       "1      00000001_001.png  Cardiomegaly|Emphysema            1           1   \n",
       "2      00000001_002.png   Cardiomegaly|Effusion            2           1   \n",
       "3      00000002_000.png              No Finding            0           2   \n",
       "4      00000003_000.png                  Hernia            0           3   \n",
       "...                 ...                     ...          ...         ...   \n",
       "55547  00030798_000.png              No Finding            0       30798   \n",
       "55548  00030801_000.png              No Finding            0       30801   \n",
       "55549  00030801_001.png          Mass|Pneumonia            1       30801   \n",
       "55550  00030804_000.png              No Finding            0       30804   \n",
       "55551  00030805_000.png              No Finding            0       30805   \n",
       "\n",
       "       Patient Age Patient Gender View Position  OriginalImage[Width  Height]  \\\n",
       "0               58              M            PA                 2682     2749   \n",
       "1               58              M            PA                 2894     2729   \n",
       "2               58              M            PA                 2500     2048   \n",
       "3               81              M            PA                 2500     2048   \n",
       "4               81              F            PA                 2582     2991   \n",
       "...            ...            ...           ...                  ...      ...   \n",
       "55547           30              M            PA                 2500     2048   \n",
       "55548           39              M            PA                 2500     2048   \n",
       "55549           39              M            PA                 2048     2500   \n",
       "55550           30              F            PA                 2048     2500   \n",
       "55551           27              M            PA                 2048     2500   \n",
       "\n",
       "       OriginalImagePixelSpacing[x     y]  Unnamed: 11  \n",
       "0                            0.143  0.143          NaN  \n",
       "1                            0.143  0.143          NaN  \n",
       "2                            0.168  0.168          NaN  \n",
       "3                            0.171  0.171          NaN  \n",
       "4                            0.143  0.143          NaN  \n",
       "...                            ...    ...          ...  \n",
       "55547                        0.171  0.171          NaN  \n",
       "55548                        0.168  0.168          NaN  \n",
       "55549                        0.168  0.168          NaN  \n",
       "55550                        0.168  0.168          NaN  \n",
       "55551                        0.171  0.171          NaN  \n",
       "\n",
       "[55552 rows x 12 columns]"
      ]
     },
     "execution_count": 34,
     "metadata": {},
     "output_type": "execute_result"
    }
   ],
   "source": [
    "df = pd.read_csv(\"data/WANE_ISMAEL.csv\")\n",
    "print(df.shape)\n",
    "df"
   ]
  },
  {
   "cell_type": "code",
   "execution_count": 35,
   "metadata": {},
   "outputs": [
    {
     "data": {
      "text/plain": [
       "Image Index                     object\n",
       "Finding Labels                  object\n",
       "Follow-up #                      int64\n",
       "Patient ID                       int64\n",
       "Patient Age                      int64\n",
       "Patient Gender                  object\n",
       "View Position                   object\n",
       "OriginalImage[Width              int64\n",
       "Height]                          int64\n",
       "OriginalImagePixelSpacing[x    float64\n",
       "y]                             float64\n",
       "Unnamed: 11                    float64\n",
       "dtype: object"
      ]
     },
     "execution_count": 35,
     "metadata": {},
     "output_type": "execute_result"
    }
   ],
   "source": [
    "df.dtypes"
   ]
  },
  {
   "cell_type": "markdown",
   "metadata": {},
   "source": [
    "# 2 - Nettoyage/Préparation des données"
   ]
  },
  {
   "cell_type": "code",
   "execution_count": 36,
   "metadata": {},
   "outputs": [
    {
     "name": "stdout",
     "output_type": "stream",
     "text": [
      "Follow-up # False\n",
      "Patient ID False\n",
      "Patient Age False\n",
      "OriginalImage[Width False\n",
      "Height] False\n",
      "OriginalImagePixelSpacing[x False\n",
      "y] False\n",
      "Unnamed: 11 True\n"
     ]
    }
   ],
   "source": [
    "# On vérifie si il y'a des valeurs Nan dans notre dataframe\n",
    "df_num = df.select_dtypes(include=['number'])\n",
    "for column in df_num.columns:\n",
    "  print(column, df[column].isnull().values.any())"
   ]
  },
  {
   "cell_type": "code",
   "execution_count": 37,
   "metadata": {},
   "outputs": [
    {
     "data": {
      "text/plain": [
       "1"
      ]
     },
     "execution_count": 37,
     "metadata": {},
     "output_type": "execute_result"
    }
   ],
   "source": [
    "# On observe que presque toutes nos colonnes numériques ne contiennent pas de valeurs manquantes NaN,\n",
    "# à part la colonne Unnamed: 11.\n",
    "# Reste à savoir si toutes ses valeurs sont des NaN\n",
    "\n",
    "vlr = df['Unnamed: 11'].nunique(dropna=False)\n",
    "vlr\n"
   ]
  },
  {
   "cell_type": "code",
   "execution_count": 38,
   "metadata": {},
   "outputs": [
    {
     "data": {
      "text/html": [
       "<div>\n",
       "<style scoped>\n",
       "    .dataframe tbody tr th:only-of-type {\n",
       "        vertical-align: middle;\n",
       "    }\n",
       "\n",
       "    .dataframe tbody tr th {\n",
       "        vertical-align: top;\n",
       "    }\n",
       "\n",
       "    .dataframe thead th {\n",
       "        text-align: right;\n",
       "    }\n",
       "</style>\n",
       "<table border=\"1\" class=\"dataframe\">\n",
       "  <thead>\n",
       "    <tr style=\"text-align: right;\">\n",
       "      <th></th>\n",
       "      <th>Image Index</th>\n",
       "      <th>Finding Labels</th>\n",
       "      <th>Follow-up #</th>\n",
       "      <th>Patient ID</th>\n",
       "      <th>Patient Age</th>\n",
       "      <th>Patient Gender</th>\n",
       "      <th>View Position</th>\n",
       "      <th>OriginalImage[Width</th>\n",
       "      <th>Height]</th>\n",
       "      <th>OriginalImagePixelSpacing[x</th>\n",
       "      <th>y]</th>\n",
       "    </tr>\n",
       "  </thead>\n",
       "  <tbody>\n",
       "    <tr>\n",
       "      <th>0</th>\n",
       "      <td>00000001_000.png</td>\n",
       "      <td>Cardiomegaly</td>\n",
       "      <td>0</td>\n",
       "      <td>1</td>\n",
       "      <td>58</td>\n",
       "      <td>M</td>\n",
       "      <td>PA</td>\n",
       "      <td>2682</td>\n",
       "      <td>2749</td>\n",
       "      <td>0.143</td>\n",
       "      <td>0.143</td>\n",
       "    </tr>\n",
       "    <tr>\n",
       "      <th>1</th>\n",
       "      <td>00000001_001.png</td>\n",
       "      <td>Cardiomegaly|Emphysema</td>\n",
       "      <td>1</td>\n",
       "      <td>1</td>\n",
       "      <td>58</td>\n",
       "      <td>M</td>\n",
       "      <td>PA</td>\n",
       "      <td>2894</td>\n",
       "      <td>2729</td>\n",
       "      <td>0.143</td>\n",
       "      <td>0.143</td>\n",
       "    </tr>\n",
       "    <tr>\n",
       "      <th>2</th>\n",
       "      <td>00000001_002.png</td>\n",
       "      <td>Cardiomegaly|Effusion</td>\n",
       "      <td>2</td>\n",
       "      <td>1</td>\n",
       "      <td>58</td>\n",
       "      <td>M</td>\n",
       "      <td>PA</td>\n",
       "      <td>2500</td>\n",
       "      <td>2048</td>\n",
       "      <td>0.168</td>\n",
       "      <td>0.168</td>\n",
       "    </tr>\n",
       "    <tr>\n",
       "      <th>3</th>\n",
       "      <td>00000002_000.png</td>\n",
       "      <td>No Finding</td>\n",
       "      <td>0</td>\n",
       "      <td>2</td>\n",
       "      <td>81</td>\n",
       "      <td>M</td>\n",
       "      <td>PA</td>\n",
       "      <td>2500</td>\n",
       "      <td>2048</td>\n",
       "      <td>0.171</td>\n",
       "      <td>0.171</td>\n",
       "    </tr>\n",
       "    <tr>\n",
       "      <th>4</th>\n",
       "      <td>00000003_000.png</td>\n",
       "      <td>Hernia</td>\n",
       "      <td>0</td>\n",
       "      <td>3</td>\n",
       "      <td>81</td>\n",
       "      <td>F</td>\n",
       "      <td>PA</td>\n",
       "      <td>2582</td>\n",
       "      <td>2991</td>\n",
       "      <td>0.143</td>\n",
       "      <td>0.143</td>\n",
       "    </tr>\n",
       "    <tr>\n",
       "      <th>...</th>\n",
       "      <td>...</td>\n",
       "      <td>...</td>\n",
       "      <td>...</td>\n",
       "      <td>...</td>\n",
       "      <td>...</td>\n",
       "      <td>...</td>\n",
       "      <td>...</td>\n",
       "      <td>...</td>\n",
       "      <td>...</td>\n",
       "      <td>...</td>\n",
       "      <td>...</td>\n",
       "    </tr>\n",
       "    <tr>\n",
       "      <th>55547</th>\n",
       "      <td>00030798_000.png</td>\n",
       "      <td>No Finding</td>\n",
       "      <td>0</td>\n",
       "      <td>30798</td>\n",
       "      <td>30</td>\n",
       "      <td>M</td>\n",
       "      <td>PA</td>\n",
       "      <td>2500</td>\n",
       "      <td>2048</td>\n",
       "      <td>0.171</td>\n",
       "      <td>0.171</td>\n",
       "    </tr>\n",
       "    <tr>\n",
       "      <th>55548</th>\n",
       "      <td>00030801_000.png</td>\n",
       "      <td>No Finding</td>\n",
       "      <td>0</td>\n",
       "      <td>30801</td>\n",
       "      <td>39</td>\n",
       "      <td>M</td>\n",
       "      <td>PA</td>\n",
       "      <td>2500</td>\n",
       "      <td>2048</td>\n",
       "      <td>0.168</td>\n",
       "      <td>0.168</td>\n",
       "    </tr>\n",
       "    <tr>\n",
       "      <th>55549</th>\n",
       "      <td>00030801_001.png</td>\n",
       "      <td>Mass|Pneumonia</td>\n",
       "      <td>1</td>\n",
       "      <td>30801</td>\n",
       "      <td>39</td>\n",
       "      <td>M</td>\n",
       "      <td>PA</td>\n",
       "      <td>2048</td>\n",
       "      <td>2500</td>\n",
       "      <td>0.168</td>\n",
       "      <td>0.168</td>\n",
       "    </tr>\n",
       "    <tr>\n",
       "      <th>55550</th>\n",
       "      <td>00030804_000.png</td>\n",
       "      <td>No Finding</td>\n",
       "      <td>0</td>\n",
       "      <td>30804</td>\n",
       "      <td>30</td>\n",
       "      <td>F</td>\n",
       "      <td>PA</td>\n",
       "      <td>2048</td>\n",
       "      <td>2500</td>\n",
       "      <td>0.168</td>\n",
       "      <td>0.168</td>\n",
       "    </tr>\n",
       "    <tr>\n",
       "      <th>55551</th>\n",
       "      <td>00030805_000.png</td>\n",
       "      <td>No Finding</td>\n",
       "      <td>0</td>\n",
       "      <td>30805</td>\n",
       "      <td>27</td>\n",
       "      <td>M</td>\n",
       "      <td>PA</td>\n",
       "      <td>2048</td>\n",
       "      <td>2500</td>\n",
       "      <td>0.171</td>\n",
       "      <td>0.171</td>\n",
       "    </tr>\n",
       "  </tbody>\n",
       "</table>\n",
       "<p>55552 rows × 11 columns</p>\n",
       "</div>"
      ],
      "text/plain": [
       "            Image Index          Finding Labels  Follow-up #  Patient ID  \\\n",
       "0      00000001_000.png            Cardiomegaly            0           1   \n",
       "1      00000001_001.png  Cardiomegaly|Emphysema            1           1   \n",
       "2      00000001_002.png   Cardiomegaly|Effusion            2           1   \n",
       "3      00000002_000.png              No Finding            0           2   \n",
       "4      00000003_000.png                  Hernia            0           3   \n",
       "...                 ...                     ...          ...         ...   \n",
       "55547  00030798_000.png              No Finding            0       30798   \n",
       "55548  00030801_000.png              No Finding            0       30801   \n",
       "55549  00030801_001.png          Mass|Pneumonia            1       30801   \n",
       "55550  00030804_000.png              No Finding            0       30804   \n",
       "55551  00030805_000.png              No Finding            0       30805   \n",
       "\n",
       "       Patient Age Patient Gender View Position  OriginalImage[Width  Height]  \\\n",
       "0               58              M            PA                 2682     2749   \n",
       "1               58              M            PA                 2894     2729   \n",
       "2               58              M            PA                 2500     2048   \n",
       "3               81              M            PA                 2500     2048   \n",
       "4               81              F            PA                 2582     2991   \n",
       "...            ...            ...           ...                  ...      ...   \n",
       "55547           30              M            PA                 2500     2048   \n",
       "55548           39              M            PA                 2500     2048   \n",
       "55549           39              M            PA                 2048     2500   \n",
       "55550           30              F            PA                 2048     2500   \n",
       "55551           27              M            PA                 2048     2500   \n",
       "\n",
       "       OriginalImagePixelSpacing[x     y]  \n",
       "0                            0.143  0.143  \n",
       "1                            0.143  0.143  \n",
       "2                            0.168  0.168  \n",
       "3                            0.171  0.171  \n",
       "4                            0.143  0.143  \n",
       "...                            ...    ...  \n",
       "55547                        0.171  0.171  \n",
       "55548                        0.168  0.168  \n",
       "55549                        0.168  0.168  \n",
       "55550                        0.168  0.168  \n",
       "55551                        0.171  0.171  \n",
       "\n",
       "[55552 rows x 11 columns]"
      ]
     },
     "execution_count": 38,
     "metadata": {},
     "output_type": "execute_result"
    }
   ],
   "source": [
    "# Il n'y a qu'une unique valeur dans cette colonne, qui est NaN, donc cette colonne ne porte aucune information.\n",
    "# Nous pouvons la supprimer\n",
    "\n",
    "df_clean = df.drop(columns=\"Unnamed: 11\")\n",
    "df_clean"
   ]
  },
  {
   "cell_type": "code",
   "execution_count": 39,
   "metadata": {},
   "outputs": [
    {
     "data": {
      "text/html": [
       "<div>\n",
       "<style scoped>\n",
       "    .dataframe tbody tr th:only-of-type {\n",
       "        vertical-align: middle;\n",
       "    }\n",
       "\n",
       "    .dataframe tbody tr th {\n",
       "        vertical-align: top;\n",
       "    }\n",
       "\n",
       "    .dataframe thead th {\n",
       "        text-align: right;\n",
       "    }\n",
       "</style>\n",
       "<table border=\"1\" class=\"dataframe\">\n",
       "  <thead>\n",
       "    <tr style=\"text-align: right;\">\n",
       "      <th></th>\n",
       "      <th>Image Index</th>\n",
       "      <th>Finding Labels</th>\n",
       "      <th>Follow-up #</th>\n",
       "      <th>Patient ID</th>\n",
       "      <th>Patient Age</th>\n",
       "      <th>Patient Gender</th>\n",
       "      <th>View Position</th>\n",
       "      <th>Original_Image_Width</th>\n",
       "      <th>Original_Image_Height</th>\n",
       "      <th>PixelSpacingX</th>\n",
       "      <th>PixelSpacingY</th>\n",
       "    </tr>\n",
       "  </thead>\n",
       "  <tbody>\n",
       "    <tr>\n",
       "      <th>0</th>\n",
       "      <td>00000001_000.png</td>\n",
       "      <td>Cardiomegaly</td>\n",
       "      <td>0</td>\n",
       "      <td>1</td>\n",
       "      <td>58</td>\n",
       "      <td>M</td>\n",
       "      <td>PA</td>\n",
       "      <td>2682</td>\n",
       "      <td>2749</td>\n",
       "      <td>0.143</td>\n",
       "      <td>0.143</td>\n",
       "    </tr>\n",
       "    <tr>\n",
       "      <th>1</th>\n",
       "      <td>00000001_001.png</td>\n",
       "      <td>Cardiomegaly|Emphysema</td>\n",
       "      <td>1</td>\n",
       "      <td>1</td>\n",
       "      <td>58</td>\n",
       "      <td>M</td>\n",
       "      <td>PA</td>\n",
       "      <td>2894</td>\n",
       "      <td>2729</td>\n",
       "      <td>0.143</td>\n",
       "      <td>0.143</td>\n",
       "    </tr>\n",
       "    <tr>\n",
       "      <th>2</th>\n",
       "      <td>00000001_002.png</td>\n",
       "      <td>Cardiomegaly|Effusion</td>\n",
       "      <td>2</td>\n",
       "      <td>1</td>\n",
       "      <td>58</td>\n",
       "      <td>M</td>\n",
       "      <td>PA</td>\n",
       "      <td>2500</td>\n",
       "      <td>2048</td>\n",
       "      <td>0.168</td>\n",
       "      <td>0.168</td>\n",
       "    </tr>\n",
       "    <tr>\n",
       "      <th>3</th>\n",
       "      <td>00000002_000.png</td>\n",
       "      <td>No Finding</td>\n",
       "      <td>0</td>\n",
       "      <td>2</td>\n",
       "      <td>81</td>\n",
       "      <td>M</td>\n",
       "      <td>PA</td>\n",
       "      <td>2500</td>\n",
       "      <td>2048</td>\n",
       "      <td>0.171</td>\n",
       "      <td>0.171</td>\n",
       "    </tr>\n",
       "    <tr>\n",
       "      <th>4</th>\n",
       "      <td>00000003_000.png</td>\n",
       "      <td>Hernia</td>\n",
       "      <td>0</td>\n",
       "      <td>3</td>\n",
       "      <td>81</td>\n",
       "      <td>F</td>\n",
       "      <td>PA</td>\n",
       "      <td>2582</td>\n",
       "      <td>2991</td>\n",
       "      <td>0.143</td>\n",
       "      <td>0.143</td>\n",
       "    </tr>\n",
       "    <tr>\n",
       "      <th>...</th>\n",
       "      <td>...</td>\n",
       "      <td>...</td>\n",
       "      <td>...</td>\n",
       "      <td>...</td>\n",
       "      <td>...</td>\n",
       "      <td>...</td>\n",
       "      <td>...</td>\n",
       "      <td>...</td>\n",
       "      <td>...</td>\n",
       "      <td>...</td>\n",
       "      <td>...</td>\n",
       "    </tr>\n",
       "    <tr>\n",
       "      <th>55547</th>\n",
       "      <td>00030798_000.png</td>\n",
       "      <td>No Finding</td>\n",
       "      <td>0</td>\n",
       "      <td>30798</td>\n",
       "      <td>30</td>\n",
       "      <td>M</td>\n",
       "      <td>PA</td>\n",
       "      <td>2500</td>\n",
       "      <td>2048</td>\n",
       "      <td>0.171</td>\n",
       "      <td>0.171</td>\n",
       "    </tr>\n",
       "    <tr>\n",
       "      <th>55548</th>\n",
       "      <td>00030801_000.png</td>\n",
       "      <td>No Finding</td>\n",
       "      <td>0</td>\n",
       "      <td>30801</td>\n",
       "      <td>39</td>\n",
       "      <td>M</td>\n",
       "      <td>PA</td>\n",
       "      <td>2500</td>\n",
       "      <td>2048</td>\n",
       "      <td>0.168</td>\n",
       "      <td>0.168</td>\n",
       "    </tr>\n",
       "    <tr>\n",
       "      <th>55549</th>\n",
       "      <td>00030801_001.png</td>\n",
       "      <td>Mass|Pneumonia</td>\n",
       "      <td>1</td>\n",
       "      <td>30801</td>\n",
       "      <td>39</td>\n",
       "      <td>M</td>\n",
       "      <td>PA</td>\n",
       "      <td>2048</td>\n",
       "      <td>2500</td>\n",
       "      <td>0.168</td>\n",
       "      <td>0.168</td>\n",
       "    </tr>\n",
       "    <tr>\n",
       "      <th>55550</th>\n",
       "      <td>00030804_000.png</td>\n",
       "      <td>No Finding</td>\n",
       "      <td>0</td>\n",
       "      <td>30804</td>\n",
       "      <td>30</td>\n",
       "      <td>F</td>\n",
       "      <td>PA</td>\n",
       "      <td>2048</td>\n",
       "      <td>2500</td>\n",
       "      <td>0.168</td>\n",
       "      <td>0.168</td>\n",
       "    </tr>\n",
       "    <tr>\n",
       "      <th>55551</th>\n",
       "      <td>00030805_000.png</td>\n",
       "      <td>No Finding</td>\n",
       "      <td>0</td>\n",
       "      <td>30805</td>\n",
       "      <td>27</td>\n",
       "      <td>M</td>\n",
       "      <td>PA</td>\n",
       "      <td>2048</td>\n",
       "      <td>2500</td>\n",
       "      <td>0.171</td>\n",
       "      <td>0.171</td>\n",
       "    </tr>\n",
       "  </tbody>\n",
       "</table>\n",
       "<p>55552 rows × 11 columns</p>\n",
       "</div>"
      ],
      "text/plain": [
       "            Image Index          Finding Labels  Follow-up #  Patient ID  \\\n",
       "0      00000001_000.png            Cardiomegaly            0           1   \n",
       "1      00000001_001.png  Cardiomegaly|Emphysema            1           1   \n",
       "2      00000001_002.png   Cardiomegaly|Effusion            2           1   \n",
       "3      00000002_000.png              No Finding            0           2   \n",
       "4      00000003_000.png                  Hernia            0           3   \n",
       "...                 ...                     ...          ...         ...   \n",
       "55547  00030798_000.png              No Finding            0       30798   \n",
       "55548  00030801_000.png              No Finding            0       30801   \n",
       "55549  00030801_001.png          Mass|Pneumonia            1       30801   \n",
       "55550  00030804_000.png              No Finding            0       30804   \n",
       "55551  00030805_000.png              No Finding            0       30805   \n",
       "\n",
       "       Patient Age Patient Gender View Position  Original_Image_Width  \\\n",
       "0               58              M            PA                  2682   \n",
       "1               58              M            PA                  2894   \n",
       "2               58              M            PA                  2500   \n",
       "3               81              M            PA                  2500   \n",
       "4               81              F            PA                  2582   \n",
       "...            ...            ...           ...                   ...   \n",
       "55547           30              M            PA                  2500   \n",
       "55548           39              M            PA                  2500   \n",
       "55549           39              M            PA                  2048   \n",
       "55550           30              F            PA                  2048   \n",
       "55551           27              M            PA                  2048   \n",
       "\n",
       "       Original_Image_Height  PixelSpacingX  PixelSpacingY  \n",
       "0                       2749          0.143          0.143  \n",
       "1                       2729          0.143          0.143  \n",
       "2                       2048          0.168          0.168  \n",
       "3                       2048          0.171          0.171  \n",
       "4                       2991          0.143          0.143  \n",
       "...                      ...            ...            ...  \n",
       "55547                   2048          0.171          0.171  \n",
       "55548                   2048          0.168          0.168  \n",
       "55549                   2500          0.168          0.168  \n",
       "55550                   2500          0.168          0.168  \n",
       "55551                   2500          0.171          0.171  \n",
       "\n",
       "[55552 rows x 11 columns]"
      ]
     },
     "execution_count": 39,
     "metadata": {},
     "output_type": "execute_result"
    }
   ],
   "source": [
    "#Pour une meilleure visibilité, on va renommer certaines colonnes\n",
    "df_clean = df_clean.rename(columns={\n",
    "    \"OriginalImage[Width\": \"Original_Image_Width\",\n",
    "    \"Height]\": \"Original_Image_Height\",\n",
    "    \"OriginalImagePixelSpacing[x\": \"PixelSpacingX\",\n",
    "    \"y]\": \"PixelSpacingY\"\n",
    "})\n",
    "df_clean"
   ]
  },
  {
   "cell_type": "markdown",
   "metadata": {},
   "source": [
    "# 3 - Analyse des données"
   ]
  },
  {
   "cell_type": "markdown",
   "metadata": {},
   "source": [
    "Nous allons ensuite effectuer l'analyse descriptive de nos données, en commençant par leur analyse univariée et en terminant sur leur analyse bivariée."
   ]
  },
  {
   "cell_type": "markdown",
   "metadata": {},
   "source": [
    "# Analyse univariée"
   ]
  },
  {
   "cell_type": "code",
   "execution_count": 40,
   "metadata": {},
   "outputs": [],
   "source": [
    "# Conversion de la colonne \"Patient Age\" en numérique\n",
    "df_clean['Patient Age'] = pd.to_numeric(df_clean['Patient Age'], errors='coerce')"
   ]
  },
  {
   "cell_type": "code",
   "execution_count": 41,
   "metadata": {},
   "outputs": [],
   "source": [
    "# Histogramme de la distribution des âges\n",
    "plt.figure(figsize=(10, 5))\n",
    "sns.histplot(df_clean[\"Patient Age\"], bins=30, kde=True, color=\"skyblue\")\n",
    "plt.title(\"Distribution des âges des patients\")\n",
    "plt.xlabel(\"Âge\")\n",
    "plt.ylabel(\"Fréquence\")\n",
    "plt.grid(True, linestyle='--', alpha=0.7)\n",
    "plt.show()\n"
   ]
  },
  {
   "cell_type": "code",
   "execution_count": 42,
   "metadata": {},
   "outputs": [
    {
     "name": "stdout",
     "output_type": "stream",
     "text": [
      "Statistiques sur les âges :\n"
     ]
    },
    {
     "data": {
      "text/plain": [
       "count    55552.000000\n",
       "mean        46.913270\n",
       "std         16.589761\n",
       "min          1.000000\n",
       "25%         35.000000\n",
       "50%         48.000000\n",
       "75%         59.000000\n",
       "max        414.000000\n",
       "Name: Patient Age, dtype: float64"
      ]
     },
     "metadata": {},
     "output_type": "display_data"
    }
   ],
   "source": [
    "# Ce qui est mis en avant par l'histogramme est encore plus visible par le schéma suivant et sa\n",
    "#description\n",
    "\n",
    "plt.figure(figsize=(10, 5))\n",
    "sns.boxplot(x=df_clean[\"Patient Age\"])\n",
    "plt.title(\"Distribution des âges des patients\")\n",
    "plt.show()\n",
    "print(\"Statistiques sur les âges :\")\n",
    "display(df_clean[\"Patient Age\"].describe())"
   ]
  },
  {
   "cell_type": "markdown",
   "metadata": {},
   "source": [
    "D'après les statistiques réalisés sur l'attribut \"âge\", on voit que l'âge moyen est de 46 ans, avec un âge minimum de 1 ans et un maximum de 414 ans, ce qui assez paradoxale.\n",
    "On remarque aussi un 1er biais, c'est à dire, des individus dont l'âge est iréaliste, on en trouve 3 si on part du principe que l'age maximal est de 100 ans. On observe 3 personnes avec un âge irrealiste."
   ]
  },
  {
   "cell_type": "code",
   "execution_count": 43,
   "metadata": {},
   "outputs": [
    {
     "data": {
      "text/html": [
       "<div>\n",
       "<style scoped>\n",
       "    .dataframe tbody tr th:only-of-type {\n",
       "        vertical-align: middle;\n",
       "    }\n",
       "\n",
       "    .dataframe tbody tr th {\n",
       "        vertical-align: top;\n",
       "    }\n",
       "\n",
       "    .dataframe thead th {\n",
       "        text-align: right;\n",
       "    }\n",
       "</style>\n",
       "<table border=\"1\" class=\"dataframe\">\n",
       "  <thead>\n",
       "    <tr style=\"text-align: right;\">\n",
       "      <th></th>\n",
       "      <th>Image Index</th>\n",
       "      <th>Finding Labels</th>\n",
       "      <th>Follow-up #</th>\n",
       "      <th>Patient ID</th>\n",
       "      <th>Patient Age</th>\n",
       "      <th>Patient Gender</th>\n",
       "      <th>View Position</th>\n",
       "      <th>Original_Image_Width</th>\n",
       "      <th>Original_Image_Height</th>\n",
       "      <th>PixelSpacingX</th>\n",
       "      <th>PixelSpacingY</th>\n",
       "    </tr>\n",
       "  </thead>\n",
       "  <tbody>\n",
       "    <tr>\n",
       "      <th>23236</th>\n",
       "      <td>00011973_002.png</td>\n",
       "      <td>Edema</td>\n",
       "      <td>2</td>\n",
       "      <td>11973</td>\n",
       "      <td>414</td>\n",
       "      <td>M</td>\n",
       "      <td>AP</td>\n",
       "      <td>3056</td>\n",
       "      <td>2544</td>\n",
       "      <td>0.139</td>\n",
       "      <td>0.139</td>\n",
       "    </tr>\n",
       "    <tr>\n",
       "      <th>23984</th>\n",
       "      <td>00012238_010.png</td>\n",
       "      <td>No Finding</td>\n",
       "      <td>10</td>\n",
       "      <td>12238</td>\n",
       "      <td>148</td>\n",
       "      <td>M</td>\n",
       "      <td>PA</td>\n",
       "      <td>2992</td>\n",
       "      <td>2991</td>\n",
       "      <td>0.143</td>\n",
       "      <td>0.143</td>\n",
       "    </tr>\n",
       "    <tr>\n",
       "      <th>29342</th>\n",
       "      <td>00014520_026.png</td>\n",
       "      <td>Infiltration|Mass</td>\n",
       "      <td>26</td>\n",
       "      <td>14520</td>\n",
       "      <td>150</td>\n",
       "      <td>M</td>\n",
       "      <td>PA</td>\n",
       "      <td>2992</td>\n",
       "      <td>2991</td>\n",
       "      <td>0.143</td>\n",
       "      <td>0.143</td>\n",
       "    </tr>\n",
       "  </tbody>\n",
       "</table>\n",
       "</div>"
      ],
      "text/plain": [
       "            Image Index     Finding Labels  Follow-up #  Patient ID  \\\n",
       "23236  00011973_002.png              Edema            2       11973   \n",
       "23984  00012238_010.png         No Finding           10       12238   \n",
       "29342  00014520_026.png  Infiltration|Mass           26       14520   \n",
       "\n",
       "       Patient Age Patient Gender View Position  Original_Image_Width  \\\n",
       "23236          414              M            AP                  3056   \n",
       "23984          148              M            PA                  2992   \n",
       "29342          150              M            PA                  2992   \n",
       "\n",
       "       Original_Image_Height  PixelSpacingX  PixelSpacingY  \n",
       "23236                   2544          0.139          0.139  \n",
       "23984                   2991          0.143          0.143  \n",
       "29342                   2991          0.143          0.143  "
      ]
     },
     "execution_count": 43,
     "metadata": {},
     "output_type": "execute_result"
    }
   ],
   "source": [
    "df_filtered = df_clean[df_clean[\"Patient Age\"] > 100]\n",
    "df_filtered\n",
    "#414, 148, 150 très très loin de la durée de vie record qui est de de 122 ans."
   ]
  },
  {
   "cell_type": "code",
   "execution_count": 44,
   "metadata": {},
   "outputs": [
    {
     "name": "stdout",
     "output_type": "stream",
     "text": [
      "\n",
      "Proportion de personnes par décennie d'âge:\n",
      "Decennie_Age\n",
      "0       1.146673\n",
      "10      4.685700\n",
      "20     11.439732\n",
      "30     14.438724\n",
      "40     20.605919\n",
      "50     23.919931\n",
      "60     16.593462\n",
      "70      6.073589\n",
      "80      1.002664\n",
      "90      0.088206\n",
      "140     0.001800\n",
      "150     0.001800\n",
      "410     0.001800\n",
      "Name: proportion, dtype: float64\n"
     ]
    }
   ],
   "source": [
    "def proportion_par_decennie():\n",
    "    df[\"Decennie_Age\"] = (df[\"Patient Age\"] // 10) * 10  # Regrouper les âges par dizaines\n",
    "    age_counts = df[\"Decennie_Age\"].value_counts(normalize=True).sort_index() * 100  # Pourcentage\n",
    "    \n",
    "    print(\"\\nProportion de personnes par décennie d'âge:\")\n",
    "    print(age_counts)\n",
    "    \n",
    "    plt.figure(figsize=(8,5))\n",
    "    sns.barplot(x=age_counts.index, y=age_counts.values, palette=\"Blues_r\")\n",
    "    plt.xlabel(\"Décennie d'âge\")\n",
    "    plt.ylabel(\"Proportion (%)\")\n",
    "    plt.title(\"Répartition des âges par décennie\")\n",
    "    plt.xticks(rotation=45)\n",
    "    plt.show()\n",
    "    \n",
    "proportion_par_decennie()"
   ]
  },
  {
   "cell_type": "markdown",
   "metadata": {},
   "source": [
    "Un autre biais pourrait être observé au niveau de la répartition de l'age, on observe si l'on classe par categorie par décennie, une nette domination de personnes entre 45 et 60 ans. Cela pourrait constituer aussi un biais associé à une autre feature."
   ]
  },
  {
   "cell_type": "code",
   "execution_count": 45,
   "metadata": {},
   "outputs": [
    {
     "name": "stdout",
     "output_type": "stream",
     "text": [
      "Nombre d'individus par genre :\n"
     ]
    },
    {
     "data": {
      "text/plain": [
       "Patient Gender\n",
       "M    30838\n",
       "F    24714\n",
       "Name: count, dtype: int64"
      ]
     },
     "metadata": {},
     "output_type": "display_data"
    }
   ],
   "source": [
    "# Analyse de la répartition des genres\n",
    "plt.figure(figsize=(6, 4))\n",
    "sns.countplot(x=df_clean[\"Patient Gender\"], palette = \"Set2\")\n",
    "plt.title(\"Répartition des genres\")\n",
    "plt.xlabel(\"Genre\")\n",
    "plt.ylabel(\"Nombre d'individus\")\n",
    "plt.show()\n",
    "print(\"Nombre d'individus par genre :\")\n",
    "display(df_clean[\"Patient Gender\"].value_counts())"
   ]
  },
  {
   "cell_type": "markdown",
   "metadata": {},
   "source": [
    "On observe donc qu'il y a beaucoup de moins de femmes dans notre jeu de données, comme le montre la description du jeu de données et le graphique réalisé en fonction de l'attribut \"Patient Gender\".\n",
    "Cela pourrait constituer un autre biais à corriger dans notre jeu de données. L'echantillonage serait une bonne solution cependant nous avons de meilleures méthodes dans le cours."
   ]
  },
  {
   "cell_type": "code",
   "execution_count": 46,
   "metadata": {},
   "outputs": [
    {
     "data": {
      "text/plain": [
       "93"
      ]
     },
     "execution_count": 46,
     "metadata": {},
     "output_type": "execute_result"
    }
   ],
   "source": [
    "df_clean[\"Finding Labels\"].value_counts().nunique()"
   ]
  },
  {
   "cell_type": "markdown",
   "metadata": {},
   "source": [
    "On a 93 valeurs différentes possibles dans notre colonne \"Finding Labels\". On va observer leur repartion dans nos données. Pour eviter de surcharger notre affichage, on va rassembler les valeurs de \"Finding Labels\" trés peu representées"
   ]
  },
  {
   "cell_type": "code",
   "execution_count": 47,
   "metadata": {},
   "outputs": [],
   "source": [
    "\n",
    "# Compter les diagnostics\n",
    "diagnosis_counts = df_clean[\"Finding Labels\"].value_counts()\n",
    "\n",
    "# Séparer les 9 plus fréquents et sommer le reste, pour une meilleure visualisation\n",
    "top_diagnoses = diagnosis_counts.nlargest(9)\n",
    "others_count = diagnosis_counts.iloc[10:].sum()\n",
    "\n",
    "# Créer une nouvelle série avec \"Autres\"\n",
    "diagnosis_pie = pd.concat([top_diagnoses, pd.Series(others_count, index=[\"Autres\"])])\n",
    "\n",
    "\n",
    "# Affichage du camembert\n",
    "plt.figure(figsize=(10, 6))\n",
    "plt.pie(\n",
    "    diagnosis_pie, \n",
    "    labels=diagnosis_pie.index, \n",
    "    autopct='%1.1f%%', \n",
    "    startangle=140, \n",
    "    colors=sns.color_palette(\"Set3\")\n",
    ")\n",
    "plt.title(\"Répartition des 10 diagnostics les plus fréquents (+ Autres)\")\n",
    "plt.show()\n"
   ]
  },
  {
   "cell_type": "markdown",
   "metadata": {},
   "source": [
    "Ici, on remarque que la valeur \"No Finding\" est la valeur présente en très large majorité dans la colonne \"Finding Labels\"(54.0%), suivi largement après par \"Infiltration\" avec seulement 8.6%. Cela peut également constitué un biais pour la suite du projet. Dans le cas d'un modèle d'apprentissage, on pourrait observer des performances réduites sur des pathologies moins fréquentes.\n",
    "On pourrait partir sur un principe pour regler ce biais, on pourrait essayer d'équilibrer nos données afin d'avoir 50% de No finding et 50% de personnes diagnostiquées."
   ]
  },
  {
   "cell_type": "markdown",
   "metadata": {},
   "source": [
    "Seul, il n'y a pas d'interêt à faire l'analyse univarié de la colonne \"Follow-up #\", car la valeur derrière de suivis du patient aurait plus de sens associée à une autre colonne ( etudier une correlation par exemple etc...)"
   ]
  },
  {
   "cell_type": "code",
   "execution_count": 48,
   "metadata": {},
   "outputs": [
    {
     "data": {
      "text/plain": [
       "View Position\n",
       "PA    32912\n",
       "AP    22640\n",
       "Name: count, dtype: int64"
      ]
     },
     "execution_count": 48,
     "metadata": {},
     "output_type": "execute_result"
    }
   ],
   "source": [
    "df_clean[\"View Position\"].value_counts()"
   ]
  },
  {
   "cell_type": "markdown",
   "metadata": {},
   "source": [
    "On remarque aussi qu'il y a beaucoup plus d'images prises en PA que d'images prises en AP. Cela pourrait constituer un biais. \n",
    "Compte tenu de la consigne, nous ne nous interesserons qu'aux métadonnées et non aux images et ses caractéristiques."
   ]
  },
  {
   "cell_type": "markdown",
   "metadata": {},
   "source": [
    "# Analyse bivariée"
   ]
  },
  {
   "cell_type": "markdown",
   "metadata": {},
   "source": [
    "On va commencer par faire l'analyse bivariée de variables quantitatives. ( On ne s'interesse qu'aux métadonnées et pas aux images )"
   ]
  },
  {
   "cell_type": "code",
   "execution_count": 49,
   "metadata": {},
   "outputs": [],
   "source": [
    "#Chargement des variables quantitatives\n",
    "qualitative_vars = df_clean[['Finding Labels', 'Patient Gender']].columns.tolist()\n",
    "#Chargement des variables qualitatives\n",
    "quantitative_vars = df_clean[['Patient ID', 'Patient Age', 'Follow-up #']].columns.tolist()"
   ]
  },
  {
   "cell_type": "code",
   "execution_count": 50,
   "metadata": {},
   "outputs": [],
   "source": [
    "#Pour deux variables quantitatives\n",
    "\n",
    "# Création de nuages de points pour toutes les paires de variables quantitatives\n",
    "sns.pairplot(df_clean[quantitative_vars], diag_kind='kde', plot_kws={'alpha':0.5, 's':10})\n",
    "plt.suptitle('Nuages de points des variables quantitatives', y=1.02)\n",
    "plt.show()\n"
   ]
  },
  {
   "cell_type": "markdown",
   "metadata": {},
   "source": [
    "Biais d’âge : Les patients diagnostiqués \"Malades\" semblent en moyenne plus âgés que ceux avec \"No Finding\".\n",
    "\n",
    "Biais de genre : Les hommes et les femmes n’ont pas la même répartition des diagnostics. Bien que les rapports malades/sain dans les deux genres semblent équilibrer ( détailler dans la suite )\n",
    "\n",
    "Biais de genre dans le suivi médical : Différence visible entre hommes et femmes en termes de nombre de suivis mais qui peut être corrigé en corrigeant le biais sur la répartitions des sexes.\n"
   ]
  },
  {
   "cell_type": "code",
   "execution_count": 51,
   "metadata": {},
   "outputs": [
    {
     "name": "stdout",
     "output_type": "stream",
     "text": [
      "\n",
      "Table de contingence :\n",
      "Finding Labels  Malades  No Finding\n",
      "Patient Gender                     \n",
      "F                 11513       13201\n",
      "M                 14384       16454\n",
      "\n",
      "Corrélation de Pearson entre Patient Age et Follow-up # : -0.036\n",
      "Corrélation de Spearman entre Patient Age et Follow-up # : 0.001\n",
      "\n",
      "Rapport de corrélation η² entre Finding Labels et Patient ID : 0.002\n",
      "\n",
      "Rapport de corrélation η² entre Finding Labels et Patient Age : 0.005\n",
      "\n",
      "Rapport de corrélation η² entre Finding Labels et Follow-up # : 0.035\n",
      "\n",
      "Rapport de corrélation η² entre Patient Gender et Patient ID : 0.003\n",
      "\n",
      "Rapport de corrélation η² entre Patient Gender et Patient Age : 0.000\n",
      "\n",
      "Rapport de corrélation η² entre Patient Gender et Follow-up # : 0.000\n"
     ]
    }
   ],
   "source": [
    "# Pour deux variables quantitatives\n",
    "\n",
    "#  Table de contingence pour deux variables qualitatives\n",
    "def table_contingence(var1, var2, top_n=1):\n",
    "    top_categories = df_clean[var2].value_counts().index[:top_n]  # Garder les top_n valeurs les plus fréquentes\n",
    "    df_filtered = df_clean.copy()\n",
    "    df_filtered[var2] = df_filtered[var2].apply(lambda x: x if x in top_categories else \"Malades\")\n",
    "    \n",
    "    table = pd.crosstab(df_filtered[var1], df_filtered[var2])\n",
    "    print(\"\\nTable de contingence :\")\n",
    "    print(table)\n",
    "    table.plot(kind='bar', stacked=True, figsize=(8, 5))\n",
    "    plt.title(f\"Distribution de {var1} selon {var2}\")\n",
    "    plt.xticks(rotation=45)\n",
    "    plt.show()\n",
    "    \n",
    "    # Ajout du graphique en mosaïque avec correction et lisibilité améliorée\n",
    "    top_categories = df_clean[var2].value_counts().index[:5]  # Garder les top_n valeurs les plus fréquentes\n",
    "    df_filtered = df_clean.copy()\n",
    "    df_filtered[var2] = df_filtered[var2].apply(lambda x: x if x in top_categories else \"Malades\")\n",
    "    table = pd.crosstab(df_filtered[var1], df_filtered[var2])\n",
    "    \n",
    "    plt.figure(figsize=(10, 6))\n",
    "    mosaic_data = {(str(k1), str(k2)): v for (k1, k2), v in table.stack().items()}\n",
    "    mosaic(mosaic_data, title=f\"Mosaïque de {var1} et {var2}\")\n",
    "    plt.xticks(rotation=45, fontsize=8)\n",
    "    plt.yticks(fontsize=8)\n",
    "    plt.show()\n",
    "\n",
    "#   Corrélation Pearson et Spearman entre deux variables quantitatives\n",
    "def correlation_quantitative(var1, var2):\n",
    "    pearson_corr, _ = pearsonr(df_clean[var1], df_clean[var2])\n",
    "    spearman_corr, _ = spearmanr(df_clean[var1], df_clean[var2])\n",
    "    print(f\"\\nCorrélation de Pearson entre {var1} et {var2} : {pearson_corr:.3f}\")\n",
    "    print(f\"Corrélation de Spearman entre {var1} et {var2} : {spearman_corr:.3f}\")\n",
    "    \n",
    "\n",
    "def correlation_ratio(var_qual, var_quant):\n",
    "    \n",
    "    top_categories = df_clean[var_qual].value_counts().index[:1]  # Garder la valeur la plus fréquente\n",
    "    df_filtered = df_clean.copy()\n",
    "    df_filtered[var_qual] = df_filtered[var_qual].apply(lambda x: x if x in top_categories else \"Malades\")\n",
    "    # Encodage des valeurs qualitatives en numérique\n",
    "    le = LabelEncoder()\n",
    "    df_filtered[\"encoded_qual\"] = le.fit_transform(df_filtered[var_qual])\n",
    "\n",
    "    # Calcul des variances\n",
    "    classes = df_filtered.groupby(\"encoded_qual\")[var_quant]\n",
    "    sst = np.var(df_filtered[var_quant]) * len(df_filtered)\n",
    "    ssb = sum(len(group) * (group.mean() - df_filtered[var_quant].mean())**2 for _, group in classes)\n",
    "\n",
    "    # Calcul du rapport de corrélation η²\n",
    "    eta_squared = ssb / sst\n",
    "    print(f\"\\nRapport de corrélation η² entre {var_qual} et {var_quant} : {eta_squared:.3f}\")\n",
    "    return eta_squared\n",
    "\n",
    "\n",
    "# Exécuter les analyses\n",
    "table_contingence(\"Patient Gender\", \"Finding Labels\")  # Ex: Genre vs Diagnostic\n",
    "correlation_quantitative(\"Patient Age\", \"Follow-up #\")  # Ex: Age vs num du Suivis du patient\n",
    "for qual in qualitative_vars:\n",
    "    for quant in quantitative_vars:\n",
    "        correlation_ratio(qual, quant)\n"
   ]
  },
  {
   "cell_type": "markdown",
   "metadata": {},
   "source": [
    "D'après le tableau de contigences et selon la distribution du sexe du patient en fonction du diagnostic ci dessus :\n",
    "Proportion de malades :\n",
    "\n",
    "F : \n",
    "11513/24714​≈46.58%\n",
    "\n",
    "M : \n",
    "14384/30838≈46.66%\n",
    "\n",
    "Les pourcentages de malades sont relativement similaires entre les genres, ce qui laisse entendre que la répartition malade/pas malade a été faite de manière equitable. Reste à voir si elle été faite de manière équitable pour les differents diagnostics. Pareil, pour le schéma suivant. Cependant, on confirme une surrepresentation du sexe 'M' comme rapporté dans l'analyse univarié."
   ]
  },
  {
   "cell_type": "markdown",
   "metadata": {},
   "source": [
    "corrélation de Pearson et de Spearman entre Patient Age et Follow-up # :\n",
    "\n",
    "\n",
    "Pearson : -0.036 (très faible corrélation négative)\n",
    "\n",
    "Spearman : 0.001 (quasi inexistante)\n",
    "\n",
    "→ L'âge du patient n'a pratiquement aucun lien avec le nombre de suivis,  suggèrant une indépendance entre ces variables. Aucun biais particulier ici.\n",
    "\n",
    "Corrélation η² entre Finding Labels et les autres variables :\n",
    "\n",
    "\n",
    "Avec Patient ID : 0.002 (aucune relation significative)\n",
    "\n",
    "Avec Patient Age : 0.005 (très faible)\n",
    "\n",
    "Avec Follow-up # : 0.035 (légèrement plus élevé, mais toujours faible)\n",
    "\n",
    "→ Aucun facteur parmi ceux-ci ne semble fortement influencé par la présence ou l'absence d'une maladie à part le suivi où on trouve quand une faible corrélation. Cela suggère que Finding Labels ne dépend pas fortement de l'âge ou du nombre de suivis, mais une analyse plus approfondie serait nécessaire pour détecter des biais subtils. Car dans un contexte médical, le suivi peut avoir un lien avec la présence d'une maladie ( Légére ouverture à ne pas prendre en compte car nous sommes en Fairness et le contexte des choses n'a pas d'interets)\n",
    "\n",
    "Corrélation η² entre Patient Gender et les autres variables :\n",
    "\n",
    "\n",
    "Avec Patient ID : 0.003 (aucune relation)\n",
    "\n",
    "Avec Patient Age : 0.000 (totalement indépendant)\n",
    "\n",
    "Avec Follow-up # : 0.000 (aucune relation)\n",
    "\n",
    "→ evident car le sexe ne présente pas de lien avec son age ni son ID. completement independantes."
   ]
  },
  {
   "cell_type": "code",
   "execution_count": 52,
   "metadata": {},
   "outputs": [],
   "source": [
    "#Pour une variable quantitative\n",
    "#et une variable qualitative\n",
    "\n",
    "#Les boîtes à moustaches\n",
    "\n",
    "# Création de boxplots pour chaque paire variable qualitative vs quantitative\n",
    "\n",
    "top_categories = df_clean[\"Finding Labels\"].value_counts().index[:1]  # Garder la valeur la plus fréquente\n",
    "df_filtered = df_clean.copy()\n",
    "df_filtered[\"Finding Labels\"] = df_filtered[\"Finding Labels\"].apply(lambda x: x if x in top_categories else \"Malades\")\n",
    "\n",
    "def BoxPlot(qual_var, quant_var, df_filtered):\n",
    "    plt.figure(figsize=(9, 3))\n",
    "    sns.boxplot(x=qual_var, y=quant_var, data=df_filtered, palette='Set3')\n",
    "    plt.title(f'Boxplot : {qual_var} vs {quant_var}')\n",
    "    plt.xticks(rotation=45, ha='right')\n",
    "    plt.show()\n",
    "    \n",
    "BoxPlot(\"Finding Labels\", \"Patient Age\",df_filtered)\n",
    "BoxPlot(\"Patient Gender\", \"Follow-up #\", df_filtered)\n",
    "BoxPlot(\"Patient Gender\",\"Patient Age\",df_filtered)"
   ]
  },
  {
   "cell_type": "markdown",
   "metadata": {},
   "source": [
    "On remarque que chez les hommes le nombre de suivis est plus élevé que chez les femmes, chose pouvant être encore apporté au fait que les hommes soient beaucoup plus nombreux.\n",
    "L'âge médian semble légèrement plus élevé pour les patients malades que pour ceux sans maladie et surtout pour la tranche 40-60 ans.\n",
    "la derniere boxplot confirme ce qui a été montré plus haut."
   ]
  },
  {
   "cell_type": "code",
   "execution_count": 53,
   "metadata": {},
   "outputs": [
    {
     "data": {
      "application/vnd.plotly.v1+json": {
       "config": {
        "plotlyServerURL": "https://plot.ly"
       },
       "data": [
        {
         "name": "Genre=M",
         "opacity": 0.6,
         "type": "bar",
         "x": [
          1,
          4.76,
          8.52,
          12.28,
          16.04,
          19.799999999999997,
          23.56,
          27.32,
          31.08,
          34.839999999999996,
          38.599999999999994,
          42.36,
          46.12,
          49.879999999999995,
          53.64,
          57.4,
          61.16,
          64.91999999999999,
          68.67999999999999,
          72.44,
          76.19999999999999,
          79.96,
          83.72,
          87.47999999999999,
          91.24
         ],
         "y": [
          89,
          169,
          307,
          605,
          647,
          1602,
          1426,
          1689,
          1262,
          1480,
          1897,
          2670,
          1928,
          2953,
          2812,
          3038,
          1643,
          1994,
          1189,
          783,
          377,
          179,
          57,
          31,
          8
         ]
        },
        {
         "name": "Genre=F",
         "opacity": 0.6,
         "type": "bar",
         "x": [
          1,
          4.76,
          8.52,
          12.28,
          16.04,
          19.799999999999997,
          23.56,
          27.32,
          31.08,
          34.839999999999996,
          38.599999999999994,
          42.36,
          46.12,
          49.879999999999995,
          53.64,
          57.4,
          61.16,
          64.91999999999999,
          68.67999999999999,
          72.44,
          76.19999999999999,
          79.96,
          83.72,
          87.47999999999999,
          91.24
         ],
         "y": [
          56,
          205,
          229,
          479,
          454,
          804,
          1056,
          1361,
          1136,
          1581,
          1917,
          2262,
          1752,
          2325,
          2416,
          1949,
          1180,
          1598,
          837,
          533,
          253,
          244,
          51,
          33,
          3
         ]
        }
       ],
       "layout": {
        "barmode": "overlay",
        "template": {
         "data": {
          "bar": [
           {
            "error_x": {
             "color": "#2a3f5f"
            },
            "error_y": {
             "color": "#2a3f5f"
            },
            "marker": {
             "line": {
              "color": "#E5ECF6",
              "width": 0.5
             },
             "pattern": {
              "fillmode": "overlay",
              "size": 10,
              "solidity": 0.2
             }
            },
            "type": "bar"
           }
          ],
          "barpolar": [
           {
            "marker": {
             "line": {
              "color": "#E5ECF6",
              "width": 0.5
             },
             "pattern": {
              "fillmode": "overlay",
              "size": 10,
              "solidity": 0.2
             }
            },
            "type": "barpolar"
           }
          ],
          "carpet": [
           {
            "aaxis": {
             "endlinecolor": "#2a3f5f",
             "gridcolor": "white",
             "linecolor": "white",
             "minorgridcolor": "white",
             "startlinecolor": "#2a3f5f"
            },
            "baxis": {
             "endlinecolor": "#2a3f5f",
             "gridcolor": "white",
             "linecolor": "white",
             "minorgridcolor": "white",
             "startlinecolor": "#2a3f5f"
            },
            "type": "carpet"
           }
          ],
          "choropleth": [
           {
            "colorbar": {
             "outlinewidth": 0,
             "ticks": ""
            },
            "type": "choropleth"
           }
          ],
          "contour": [
           {
            "colorbar": {
             "outlinewidth": 0,
             "ticks": ""
            },
            "colorscale": [
             [
              0,
              "#0d0887"
             ],
             [
              0.1111111111111111,
              "#46039f"
             ],
             [
              0.2222222222222222,
              "#7201a8"
             ],
             [
              0.3333333333333333,
              "#9c179e"
             ],
             [
              0.4444444444444444,
              "#bd3786"
             ],
             [
              0.5555555555555556,
              "#d8576b"
             ],
             [
              0.6666666666666666,
              "#ed7953"
             ],
             [
              0.7777777777777778,
              "#fb9f3a"
             ],
             [
              0.8888888888888888,
              "#fdca26"
             ],
             [
              1,
              "#f0f921"
             ]
            ],
            "type": "contour"
           }
          ],
          "contourcarpet": [
           {
            "colorbar": {
             "outlinewidth": 0,
             "ticks": ""
            },
            "type": "contourcarpet"
           }
          ],
          "heatmap": [
           {
            "colorbar": {
             "outlinewidth": 0,
             "ticks": ""
            },
            "colorscale": [
             [
              0,
              "#0d0887"
             ],
             [
              0.1111111111111111,
              "#46039f"
             ],
             [
              0.2222222222222222,
              "#7201a8"
             ],
             [
              0.3333333333333333,
              "#9c179e"
             ],
             [
              0.4444444444444444,
              "#bd3786"
             ],
             [
              0.5555555555555556,
              "#d8576b"
             ],
             [
              0.6666666666666666,
              "#ed7953"
             ],
             [
              0.7777777777777778,
              "#fb9f3a"
             ],
             [
              0.8888888888888888,
              "#fdca26"
             ],
             [
              1,
              "#f0f921"
             ]
            ],
            "type": "heatmap"
           }
          ],
          "heatmapgl": [
           {
            "colorbar": {
             "outlinewidth": 0,
             "ticks": ""
            },
            "colorscale": [
             [
              0,
              "#0d0887"
             ],
             [
              0.1111111111111111,
              "#46039f"
             ],
             [
              0.2222222222222222,
              "#7201a8"
             ],
             [
              0.3333333333333333,
              "#9c179e"
             ],
             [
              0.4444444444444444,
              "#bd3786"
             ],
             [
              0.5555555555555556,
              "#d8576b"
             ],
             [
              0.6666666666666666,
              "#ed7953"
             ],
             [
              0.7777777777777778,
              "#fb9f3a"
             ],
             [
              0.8888888888888888,
              "#fdca26"
             ],
             [
              1,
              "#f0f921"
             ]
            ],
            "type": "heatmapgl"
           }
          ],
          "histogram": [
           {
            "marker": {
             "pattern": {
              "fillmode": "overlay",
              "size": 10,
              "solidity": 0.2
             }
            },
            "type": "histogram"
           }
          ],
          "histogram2d": [
           {
            "colorbar": {
             "outlinewidth": 0,
             "ticks": ""
            },
            "colorscale": [
             [
              0,
              "#0d0887"
             ],
             [
              0.1111111111111111,
              "#46039f"
             ],
             [
              0.2222222222222222,
              "#7201a8"
             ],
             [
              0.3333333333333333,
              "#9c179e"
             ],
             [
              0.4444444444444444,
              "#bd3786"
             ],
             [
              0.5555555555555556,
              "#d8576b"
             ],
             [
              0.6666666666666666,
              "#ed7953"
             ],
             [
              0.7777777777777778,
              "#fb9f3a"
             ],
             [
              0.8888888888888888,
              "#fdca26"
             ],
             [
              1,
              "#f0f921"
             ]
            ],
            "type": "histogram2d"
           }
          ],
          "histogram2dcontour": [
           {
            "colorbar": {
             "outlinewidth": 0,
             "ticks": ""
            },
            "colorscale": [
             [
              0,
              "#0d0887"
             ],
             [
              0.1111111111111111,
              "#46039f"
             ],
             [
              0.2222222222222222,
              "#7201a8"
             ],
             [
              0.3333333333333333,
              "#9c179e"
             ],
             [
              0.4444444444444444,
              "#bd3786"
             ],
             [
              0.5555555555555556,
              "#d8576b"
             ],
             [
              0.6666666666666666,
              "#ed7953"
             ],
             [
              0.7777777777777778,
              "#fb9f3a"
             ],
             [
              0.8888888888888888,
              "#fdca26"
             ],
             [
              1,
              "#f0f921"
             ]
            ],
            "type": "histogram2dcontour"
           }
          ],
          "mesh3d": [
           {
            "colorbar": {
             "outlinewidth": 0,
             "ticks": ""
            },
            "type": "mesh3d"
           }
          ],
          "parcoords": [
           {
            "line": {
             "colorbar": {
              "outlinewidth": 0,
              "ticks": ""
             }
            },
            "type": "parcoords"
           }
          ],
          "pie": [
           {
            "automargin": true,
            "type": "pie"
           }
          ],
          "scatter": [
           {
            "fillpattern": {
             "fillmode": "overlay",
             "size": 10,
             "solidity": 0.2
            },
            "type": "scatter"
           }
          ],
          "scatter3d": [
           {
            "line": {
             "colorbar": {
              "outlinewidth": 0,
              "ticks": ""
             }
            },
            "marker": {
             "colorbar": {
              "outlinewidth": 0,
              "ticks": ""
             }
            },
            "type": "scatter3d"
           }
          ],
          "scattercarpet": [
           {
            "marker": {
             "colorbar": {
              "outlinewidth": 0,
              "ticks": ""
             }
            },
            "type": "scattercarpet"
           }
          ],
          "scattergeo": [
           {
            "marker": {
             "colorbar": {
              "outlinewidth": 0,
              "ticks": ""
             }
            },
            "type": "scattergeo"
           }
          ],
          "scattergl": [
           {
            "marker": {
             "colorbar": {
              "outlinewidth": 0,
              "ticks": ""
             }
            },
            "type": "scattergl"
           }
          ],
          "scattermapbox": [
           {
            "marker": {
             "colorbar": {
              "outlinewidth": 0,
              "ticks": ""
             }
            },
            "type": "scattermapbox"
           }
          ],
          "scatterpolar": [
           {
            "marker": {
             "colorbar": {
              "outlinewidth": 0,
              "ticks": ""
             }
            },
            "type": "scatterpolar"
           }
          ],
          "scatterpolargl": [
           {
            "marker": {
             "colorbar": {
              "outlinewidth": 0,
              "ticks": ""
             }
            },
            "type": "scatterpolargl"
           }
          ],
          "scatterternary": [
           {
            "marker": {
             "colorbar": {
              "outlinewidth": 0,
              "ticks": ""
             }
            },
            "type": "scatterternary"
           }
          ],
          "surface": [
           {
            "colorbar": {
             "outlinewidth": 0,
             "ticks": ""
            },
            "colorscale": [
             [
              0,
              "#0d0887"
             ],
             [
              0.1111111111111111,
              "#46039f"
             ],
             [
              0.2222222222222222,
              "#7201a8"
             ],
             [
              0.3333333333333333,
              "#9c179e"
             ],
             [
              0.4444444444444444,
              "#bd3786"
             ],
             [
              0.5555555555555556,
              "#d8576b"
             ],
             [
              0.6666666666666666,
              "#ed7953"
             ],
             [
              0.7777777777777778,
              "#fb9f3a"
             ],
             [
              0.8888888888888888,
              "#fdca26"
             ],
             [
              1,
              "#f0f921"
             ]
            ],
            "type": "surface"
           }
          ],
          "table": [
           {
            "cells": {
             "fill": {
              "color": "#EBF0F8"
             },
             "line": {
              "color": "white"
             }
            },
            "header": {
             "fill": {
              "color": "#C8D4E3"
             },
             "line": {
              "color": "white"
             }
            },
            "type": "table"
           }
          ]
         },
         "layout": {
          "annotationdefaults": {
           "arrowcolor": "#2a3f5f",
           "arrowhead": 0,
           "arrowwidth": 1
          },
          "autotypenumbers": "strict",
          "coloraxis": {
           "colorbar": {
            "outlinewidth": 0,
            "ticks": ""
           }
          },
          "colorscale": {
           "diverging": [
            [
             0,
             "#8e0152"
            ],
            [
             0.1,
             "#c51b7d"
            ],
            [
             0.2,
             "#de77ae"
            ],
            [
             0.3,
             "#f1b6da"
            ],
            [
             0.4,
             "#fde0ef"
            ],
            [
             0.5,
             "#f7f7f7"
            ],
            [
             0.6,
             "#e6f5d0"
            ],
            [
             0.7,
             "#b8e186"
            ],
            [
             0.8,
             "#7fbc41"
            ],
            [
             0.9,
             "#4d9221"
            ],
            [
             1,
             "#276419"
            ]
           ],
           "sequential": [
            [
             0,
             "#0d0887"
            ],
            [
             0.1111111111111111,
             "#46039f"
            ],
            [
             0.2222222222222222,
             "#7201a8"
            ],
            [
             0.3333333333333333,
             "#9c179e"
            ],
            [
             0.4444444444444444,
             "#bd3786"
            ],
            [
             0.5555555555555556,
             "#d8576b"
            ],
            [
             0.6666666666666666,
             "#ed7953"
            ],
            [
             0.7777777777777778,
             "#fb9f3a"
            ],
            [
             0.8888888888888888,
             "#fdca26"
            ],
            [
             1,
             "#f0f921"
            ]
           ],
           "sequentialminus": [
            [
             0,
             "#0d0887"
            ],
            [
             0.1111111111111111,
             "#46039f"
            ],
            [
             0.2222222222222222,
             "#7201a8"
            ],
            [
             0.3333333333333333,
             "#9c179e"
            ],
            [
             0.4444444444444444,
             "#bd3786"
            ],
            [
             0.5555555555555556,
             "#d8576b"
            ],
            [
             0.6666666666666666,
             "#ed7953"
            ],
            [
             0.7777777777777778,
             "#fb9f3a"
            ],
            [
             0.8888888888888888,
             "#fdca26"
            ],
            [
             1,
             "#f0f921"
            ]
           ]
          },
          "colorway": [
           "#636efa",
           "#EF553B",
           "#00cc96",
           "#ab63fa",
           "#FFA15A",
           "#19d3f3",
           "#FF6692",
           "#B6E880",
           "#FF97FF",
           "#FECB52"
          ],
          "font": {
           "color": "#2a3f5f"
          },
          "geo": {
           "bgcolor": "white",
           "lakecolor": "white",
           "landcolor": "#E5ECF6",
           "showlakes": true,
           "showland": true,
           "subunitcolor": "white"
          },
          "hoverlabel": {
           "align": "left"
          },
          "hovermode": "closest",
          "mapbox": {
           "style": "light"
          },
          "paper_bgcolor": "white",
          "plot_bgcolor": "#E5ECF6",
          "polar": {
           "angularaxis": {
            "gridcolor": "white",
            "linecolor": "white",
            "ticks": ""
           },
           "bgcolor": "#E5ECF6",
           "radialaxis": {
            "gridcolor": "white",
            "linecolor": "white",
            "ticks": ""
           }
          },
          "scene": {
           "xaxis": {
            "backgroundcolor": "#E5ECF6",
            "gridcolor": "white",
            "gridwidth": 2,
            "linecolor": "white",
            "showbackground": true,
            "ticks": "",
            "zerolinecolor": "white"
           },
           "yaxis": {
            "backgroundcolor": "#E5ECF6",
            "gridcolor": "white",
            "gridwidth": 2,
            "linecolor": "white",
            "showbackground": true,
            "ticks": "",
            "zerolinecolor": "white"
           },
           "zaxis": {
            "backgroundcolor": "#E5ECF6",
            "gridcolor": "white",
            "gridwidth": 2,
            "linecolor": "white",
            "showbackground": true,
            "ticks": "",
            "zerolinecolor": "white"
           }
          },
          "shapedefaults": {
           "line": {
            "color": "#2a3f5f"
           }
          },
          "ternary": {
           "aaxis": {
            "gridcolor": "white",
            "linecolor": "white",
            "ticks": ""
           },
           "baxis": {
            "gridcolor": "white",
            "linecolor": "white",
            "ticks": ""
           },
           "bgcolor": "#E5ECF6",
           "caxis": {
            "gridcolor": "white",
            "linecolor": "white",
            "ticks": ""
           }
          },
          "title": {
           "x": 0.05
          },
          "xaxis": {
           "automargin": true,
           "gridcolor": "white",
           "linecolor": "white",
           "ticks": "",
           "title": {
            "standoff": 15
           },
           "zerolinecolor": "white",
           "zerolinewidth": 2
          },
          "yaxis": {
           "automargin": true,
           "gridcolor": "white",
           "linecolor": "white",
           "ticks": "",
           "title": {
            "standoff": 15
           },
           "zerolinecolor": "white",
           "zerolinewidth": 2
          }
         }
        },
        "title": {
         "text": "Distribution de l'âge en fonction du genre"
        },
        "xaxis": {
         "title": {
          "text": "Âge du patient"
         }
        },
        "yaxis": {
         "title": {
          "text": "Effectif"
         }
        }
       }
      }
     },
     "metadata": {},
     "output_type": "display_data"
    }
   ],
   "source": [
    "import numpy as np\n",
    "import plotly.graph_objects as go\n",
    "\n",
    "def plot_histogram_age_by_gender(df, age_col=\"Patient Age\", gender_col=\"Patient Gender\", bins=25):\n",
    "    fig = go.Figure()\n",
    "\n",
    "    # (Optionnel) Filtrer les âges aberrants pour un meilleur affichage\n",
    "    df_filtered = df[df[age_col].between(0, 100)]\n",
    "\n",
    "    # 1) Calculer les bornes pour toute la distribution\n",
    "    _, bin_edges = np.histogram(df_filtered[age_col], bins=bins)\n",
    "\n",
    "    # 2) Boucler sur chaque genre en réutilisant les mêmes bin edges\n",
    "    for gender in df_filtered[gender_col].unique():\n",
    "        mask = (df_filtered[gender_col] == gender)\n",
    "        # Comptage avec les mêmes bin_edges\n",
    "        counts, _ = np.histogram(df_filtered.loc[mask, age_col], bins=bin_edges)\n",
    "\n",
    "        # Ajouter les barres pour chaque genre\n",
    "        fig.add_trace(go.Bar(\n",
    "            x=bin_edges[:-1],\n",
    "            y=counts,\n",
    "            name=f\"Genre={gender}\",\n",
    "            # Pour séparer visuellement les barres par genre\n",
    "            # offsetgroup=str(gender)\n",
    "        ))\n",
    "\n",
    "    # 3) Configuration du layout\n",
    "    fig.update_layout(\n",
    "        # 'overlay' pour superposer les barres, 'group' pour les côte à côte\n",
    "        barmode='overlay',\n",
    "        xaxis_title=\"Âge du patient\",\n",
    "        yaxis_title=\"Effectif\",\n",
    "        title=\"Distribution de l'âge en fonction du genre\"\n",
    "    )\n",
    "    # Ajuster l'opacité pour mieux voir la superposition\n",
    "    fig.update_traces(opacity=0.6)\n",
    "\n",
    "    fig.show()\n",
    "\n",
    "# Exemple d'utilisation\n",
    "plot_histogram_age_by_gender(df_clean)\n"
   ]
  },
  {
   "cell_type": "markdown",
   "metadata": {},
   "source": [
    "On observe la repartition des âges en fonction du sexe des patients de notre jeu de données. On voit que la repartition des âges est plutôt ressemblante pour les sexes ( Malgré une domination du genre 'M' dans les tranches d'age âgées) On rappelle que la repartition des effectifs n'est pas équilibrée en fonction des genres.\n",
    "On observe que les hommes ont tendance a être plus vieux."
   ]
  },
  {
   "cell_type": "code",
   "execution_count": 54,
   "metadata": {},
   "outputs": [
    {
     "name": "stdout",
     "output_type": "stream",
     "text": [
      "Proportion des femmes malades : 0.46584931617706565\n",
      "Proportion des hommes malades : 0.4664375121603217\n",
      "(F - M) Statistical Parity Difference     : -0.0005881959832560457\n",
      "(F / M) Disparate Impact             : 0.9987389608084225\n"
     ]
    }
   ],
   "source": [
    "# Utilisation du dataset nettoyé de base\n",
    "df_t = df_clean.copy()\n",
    "\n",
    "# Définir le label binaire : 1 si le patient est malade, 0 sinon.\n",
    "df_t['malade'] = (df_t['Finding Labels'] != 'No Finding').astype(int)\n",
    "\n",
    "# Calculer la proportion de malades pour chaque genre\n",
    "p_f = df_t[df_t['Patient Gender'] == 'F']['malade'].mean()\n",
    "p_m = df_t[df_t['Patient Gender'] == 'M']['malade'].mean()\n",
    "\n",
    "# Calculer les métriques de fairness\n",
    "SPDg = p_f - p_m\n",
    "DIg = p_f / p_m if p_m != 0 else float('inf')\n",
    "\n",
    "print(\"Proportion des femmes malades :\", p_f)\n",
    "print(\"Proportion des hommes malades :\", p_m)\n",
    "print(\"(F - M) Statistical Parity Difference     :\", SPDg)\n",
    "print(\"(F / M) Disparate Impact             :\", DIg)"
   ]
  },
  {
   "cell_type": "markdown",
   "metadata": {},
   "source": [
    "Les valeurs affichés confirment la bonne répartition des maladies en fonction du genre comme présentées plus haut."
   ]
  },
  {
   "cell_type": "markdown",
   "metadata": {},
   "source": [
    "L'analyse bivarié a mis en avant un biais que l'on devrait considerer dans la partie suivante de Pre-processing. On voit bien d'après l'analyse que l'on a plus de chances d'être malade lorsqu'on est vieux ( dans notre cas, je dirais plus de 40ans ) et que l'on est de sexe masculin. chose à corriger"
   ]
  },
  {
   "cell_type": "markdown",
   "metadata": {},
   "source": [
    "# 4 - Pre-processing"
   ]
  },
  {
   "cell_type": "code",
   "execution_count": 55,
   "metadata": {},
   "outputs": [
    {
     "data": {
      "text/html": [
       "<div>\n",
       "<style scoped>\n",
       "    .dataframe tbody tr th:only-of-type {\n",
       "        vertical-align: middle;\n",
       "    }\n",
       "\n",
       "    .dataframe tbody tr th {\n",
       "        vertical-align: top;\n",
       "    }\n",
       "\n",
       "    .dataframe thead th {\n",
       "        text-align: right;\n",
       "    }\n",
       "</style>\n",
       "<table border=\"1\" class=\"dataframe\">\n",
       "  <thead>\n",
       "    <tr style=\"text-align: right;\">\n",
       "      <th></th>\n",
       "      <th>Follow-up #</th>\n",
       "      <th>Patient ID</th>\n",
       "      <th>Patient Age</th>\n",
       "      <th>Original_Image_Width</th>\n",
       "      <th>Original_Image_Height</th>\n",
       "      <th>PixelSpacingX</th>\n",
       "      <th>PixelSpacingY</th>\n",
       "      <th>malade</th>\n",
       "    </tr>\n",
       "  </thead>\n",
       "  <tbody>\n",
       "    <tr>\n",
       "      <th>count</th>\n",
       "      <td>55549.000000</td>\n",
       "      <td>55549.000000</td>\n",
       "      <td>55549.000000</td>\n",
       "      <td>55549.000000</td>\n",
       "      <td>55549.000000</td>\n",
       "      <td>55549.000000</td>\n",
       "      <td>55549.000000</td>\n",
       "      <td>55549.000000</td>\n",
       "    </tr>\n",
       "    <tr>\n",
       "      <th>mean</th>\n",
       "      <td>8.544024</td>\n",
       "      <td>14331.876451</td>\n",
       "      <td>46.902987</td>\n",
       "      <td>2645.624638</td>\n",
       "      <td>2483.619903</td>\n",
       "      <td>0.155607</td>\n",
       "      <td>0.155607</td>\n",
       "      <td>0.466165</td>\n",
       "    </tr>\n",
       "    <tr>\n",
       "      <th>std</th>\n",
       "      <td>14.865719</td>\n",
       "      <td>8419.694448</td>\n",
       "      <td>16.505568</td>\n",
       "      <td>340.519054</td>\n",
       "      <td>399.883694</td>\n",
       "      <td>0.016137</td>\n",
       "      <td>0.016137</td>\n",
       "      <td>0.498858</td>\n",
       "    </tr>\n",
       "    <tr>\n",
       "      <th>min</th>\n",
       "      <td>0.000000</td>\n",
       "      <td>1.000000</td>\n",
       "      <td>1.000000</td>\n",
       "      <td>1189.000000</td>\n",
       "      <td>966.000000</td>\n",
       "      <td>0.115000</td>\n",
       "      <td>0.115000</td>\n",
       "      <td>0.000000</td>\n",
       "    </tr>\n",
       "    <tr>\n",
       "      <th>25%</th>\n",
       "      <td>0.000000</td>\n",
       "      <td>7416.000000</td>\n",
       "      <td>35.000000</td>\n",
       "      <td>2500.000000</td>\n",
       "      <td>2048.000000</td>\n",
       "      <td>0.143000</td>\n",
       "      <td>0.143000</td>\n",
       "      <td>0.000000</td>\n",
       "    </tr>\n",
       "    <tr>\n",
       "      <th>50%</th>\n",
       "      <td>3.000000</td>\n",
       "      <td>13993.000000</td>\n",
       "      <td>48.000000</td>\n",
       "      <td>2510.000000</td>\n",
       "      <td>2544.000000</td>\n",
       "      <td>0.143000</td>\n",
       "      <td>0.143000</td>\n",
       "      <td>0.000000</td>\n",
       "    </tr>\n",
       "    <tr>\n",
       "      <th>75%</th>\n",
       "      <td>10.000000</td>\n",
       "      <td>20629.000000</td>\n",
       "      <td>59.000000</td>\n",
       "      <td>2992.000000</td>\n",
       "      <td>2991.000000</td>\n",
       "      <td>0.168000</td>\n",
       "      <td>0.168000</td>\n",
       "      <td>1.000000</td>\n",
       "    </tr>\n",
       "    <tr>\n",
       "      <th>max</th>\n",
       "      <td>157.000000</td>\n",
       "      <td>30805.000000</td>\n",
       "      <td>95.000000</td>\n",
       "      <td>3550.000000</td>\n",
       "      <td>3166.000000</td>\n",
       "      <td>0.198800</td>\n",
       "      <td>0.198800</td>\n",
       "      <td>1.000000</td>\n",
       "    </tr>\n",
       "  </tbody>\n",
       "</table>\n",
       "</div>"
      ],
      "text/plain": [
       "        Follow-up #    Patient ID   Patient Age  Original_Image_Width  \\\n",
       "count  55549.000000  55549.000000  55549.000000          55549.000000   \n",
       "mean       8.544024  14331.876451     46.902987           2645.624638   \n",
       "std       14.865719   8419.694448     16.505568            340.519054   \n",
       "min        0.000000      1.000000      1.000000           1189.000000   \n",
       "25%        0.000000   7416.000000     35.000000           2500.000000   \n",
       "50%        3.000000  13993.000000     48.000000           2510.000000   \n",
       "75%       10.000000  20629.000000     59.000000           2992.000000   \n",
       "max      157.000000  30805.000000     95.000000           3550.000000   \n",
       "\n",
       "       Original_Image_Height  PixelSpacingX  PixelSpacingY        malade  \n",
       "count           55549.000000   55549.000000   55549.000000  55549.000000  \n",
       "mean             2483.619903       0.155607       0.155607      0.466165  \n",
       "std               399.883694       0.016137       0.016137      0.498858  \n",
       "min               966.000000       0.115000       0.115000      0.000000  \n",
       "25%              2048.000000       0.143000       0.143000      0.000000  \n",
       "50%              2544.000000       0.143000       0.143000      0.000000  \n",
       "75%              2991.000000       0.168000       0.168000      1.000000  \n",
       "max              3166.000000       0.198800       0.198800      1.000000  "
      ]
     },
     "execution_count": 55,
     "metadata": {},
     "output_type": "execute_result"
    }
   ],
   "source": [
    "#Suppression des données où l'âge du patient est superieur à 100 ans. Pour corriger le biais sur l'âge\n",
    "# On a corrigé notre premier biais \n",
    "\n",
    "df_t = df_t[df_t['Patient Age'] <= 100]\n",
    "df_t.describe()\n"
   ]
  },
  {
   "cell_type": "code",
   "execution_count": 56,
   "metadata": {},
   "outputs": [
    {
     "data": {
      "text/html": [
       "<div>\n",
       "<style scoped>\n",
       "    .dataframe tbody tr th:only-of-type {\n",
       "        vertical-align: middle;\n",
       "    }\n",
       "\n",
       "    .dataframe tbody tr th {\n",
       "        vertical-align: top;\n",
       "    }\n",
       "\n",
       "    .dataframe thead th {\n",
       "        text-align: right;\n",
       "    }\n",
       "</style>\n",
       "<table border=\"1\" class=\"dataframe\">\n",
       "  <thead>\n",
       "    <tr style=\"text-align: right;\">\n",
       "      <th></th>\n",
       "      <th>Image Index</th>\n",
       "      <th>Finding Labels</th>\n",
       "      <th>Follow-up #</th>\n",
       "      <th>Patient ID</th>\n",
       "      <th>Patient Age</th>\n",
       "      <th>Patient Gender</th>\n",
       "      <th>View Position</th>\n",
       "      <th>Original_Image_Width</th>\n",
       "      <th>Original_Image_Height</th>\n",
       "      <th>PixelSpacingX</th>\n",
       "      <th>PixelSpacingY</th>\n",
       "      <th>malade</th>\n",
       "    </tr>\n",
       "  </thead>\n",
       "  <tbody>\n",
       "    <tr>\n",
       "      <th>0</th>\n",
       "      <td>00000001_000.png</td>\n",
       "      <td>Cardiomegaly</td>\n",
       "      <td>0</td>\n",
       "      <td>1</td>\n",
       "      <td>58</td>\n",
       "      <td>M</td>\n",
       "      <td>PA</td>\n",
       "      <td>2682</td>\n",
       "      <td>2749</td>\n",
       "      <td>0.143</td>\n",
       "      <td>0.143</td>\n",
       "      <td>1</td>\n",
       "    </tr>\n",
       "    <tr>\n",
       "      <th>1</th>\n",
       "      <td>00000001_001.png</td>\n",
       "      <td>Cardiomegaly|Emphysema</td>\n",
       "      <td>1</td>\n",
       "      <td>1</td>\n",
       "      <td>58</td>\n",
       "      <td>M</td>\n",
       "      <td>PA</td>\n",
       "      <td>2894</td>\n",
       "      <td>2729</td>\n",
       "      <td>0.143</td>\n",
       "      <td>0.143</td>\n",
       "      <td>1</td>\n",
       "    </tr>\n",
       "    <tr>\n",
       "      <th>2</th>\n",
       "      <td>00000001_002.png</td>\n",
       "      <td>Cardiomegaly|Effusion</td>\n",
       "      <td>2</td>\n",
       "      <td>1</td>\n",
       "      <td>58</td>\n",
       "      <td>M</td>\n",
       "      <td>PA</td>\n",
       "      <td>2500</td>\n",
       "      <td>2048</td>\n",
       "      <td>0.168</td>\n",
       "      <td>0.168</td>\n",
       "      <td>1</td>\n",
       "    </tr>\n",
       "    <tr>\n",
       "      <th>3</th>\n",
       "      <td>00000002_000.png</td>\n",
       "      <td>No Finding</td>\n",
       "      <td>0</td>\n",
       "      <td>2</td>\n",
       "      <td>81</td>\n",
       "      <td>M</td>\n",
       "      <td>PA</td>\n",
       "      <td>2500</td>\n",
       "      <td>2048</td>\n",
       "      <td>0.171</td>\n",
       "      <td>0.171</td>\n",
       "      <td>0</td>\n",
       "    </tr>\n",
       "    <tr>\n",
       "      <th>4</th>\n",
       "      <td>00000003_000.png</td>\n",
       "      <td>Hernia</td>\n",
       "      <td>0</td>\n",
       "      <td>3</td>\n",
       "      <td>81</td>\n",
       "      <td>F</td>\n",
       "      <td>PA</td>\n",
       "      <td>2582</td>\n",
       "      <td>2991</td>\n",
       "      <td>0.143</td>\n",
       "      <td>0.143</td>\n",
       "      <td>1</td>\n",
       "    </tr>\n",
       "    <tr>\n",
       "      <th>5</th>\n",
       "      <td>00000003_001.png</td>\n",
       "      <td>Hernia</td>\n",
       "      <td>1</td>\n",
       "      <td>3</td>\n",
       "      <td>74</td>\n",
       "      <td>F</td>\n",
       "      <td>PA</td>\n",
       "      <td>2500</td>\n",
       "      <td>2048</td>\n",
       "      <td>0.168</td>\n",
       "      <td>0.168</td>\n",
       "      <td>1</td>\n",
       "    </tr>\n",
       "    <tr>\n",
       "      <th>6</th>\n",
       "      <td>00000003_002.png</td>\n",
       "      <td>Hernia</td>\n",
       "      <td>2</td>\n",
       "      <td>3</td>\n",
       "      <td>75</td>\n",
       "      <td>F</td>\n",
       "      <td>PA</td>\n",
       "      <td>2048</td>\n",
       "      <td>2500</td>\n",
       "      <td>0.168</td>\n",
       "      <td>0.168</td>\n",
       "      <td>1</td>\n",
       "    </tr>\n",
       "    <tr>\n",
       "      <th>7</th>\n",
       "      <td>00000003_003.png</td>\n",
       "      <td>Hernia|Infiltration</td>\n",
       "      <td>3</td>\n",
       "      <td>3</td>\n",
       "      <td>76</td>\n",
       "      <td>F</td>\n",
       "      <td>PA</td>\n",
       "      <td>2698</td>\n",
       "      <td>2991</td>\n",
       "      <td>0.143</td>\n",
       "      <td>0.143</td>\n",
       "      <td>1</td>\n",
       "    </tr>\n",
       "    <tr>\n",
       "      <th>8</th>\n",
       "      <td>00000003_004.png</td>\n",
       "      <td>Hernia</td>\n",
       "      <td>4</td>\n",
       "      <td>3</td>\n",
       "      <td>77</td>\n",
       "      <td>F</td>\n",
       "      <td>PA</td>\n",
       "      <td>2500</td>\n",
       "      <td>2048</td>\n",
       "      <td>0.168</td>\n",
       "      <td>0.168</td>\n",
       "      <td>1</td>\n",
       "    </tr>\n",
       "    <tr>\n",
       "      <th>9</th>\n",
       "      <td>00000003_005.png</td>\n",
       "      <td>Hernia</td>\n",
       "      <td>5</td>\n",
       "      <td>3</td>\n",
       "      <td>78</td>\n",
       "      <td>F</td>\n",
       "      <td>PA</td>\n",
       "      <td>2686</td>\n",
       "      <td>2991</td>\n",
       "      <td>0.143</td>\n",
       "      <td>0.143</td>\n",
       "      <td>1</td>\n",
       "    </tr>\n",
       "  </tbody>\n",
       "</table>\n",
       "</div>"
      ],
      "text/plain": [
       "        Image Index          Finding Labels  Follow-up #  Patient ID  \\\n",
       "0  00000001_000.png            Cardiomegaly            0           1   \n",
       "1  00000001_001.png  Cardiomegaly|Emphysema            1           1   \n",
       "2  00000001_002.png   Cardiomegaly|Effusion            2           1   \n",
       "3  00000002_000.png              No Finding            0           2   \n",
       "4  00000003_000.png                  Hernia            0           3   \n",
       "5  00000003_001.png                  Hernia            1           3   \n",
       "6  00000003_002.png                  Hernia            2           3   \n",
       "7  00000003_003.png     Hernia|Infiltration            3           3   \n",
       "8  00000003_004.png                  Hernia            4           3   \n",
       "9  00000003_005.png                  Hernia            5           3   \n",
       "\n",
       "   Patient Age Patient Gender View Position  Original_Image_Width  \\\n",
       "0           58              M            PA                  2682   \n",
       "1           58              M            PA                  2894   \n",
       "2           58              M            PA                  2500   \n",
       "3           81              M            PA                  2500   \n",
       "4           81              F            PA                  2582   \n",
       "5           74              F            PA                  2500   \n",
       "6           75              F            PA                  2048   \n",
       "7           76              F            PA                  2698   \n",
       "8           77              F            PA                  2500   \n",
       "9           78              F            PA                  2686   \n",
       "\n",
       "   Original_Image_Height  PixelSpacingX  PixelSpacingY  malade  \n",
       "0                   2749          0.143          0.143       1  \n",
       "1                   2729          0.143          0.143       1  \n",
       "2                   2048          0.168          0.168       1  \n",
       "3                   2048          0.171          0.171       0  \n",
       "4                   2991          0.143          0.143       1  \n",
       "5                   2048          0.168          0.168       1  \n",
       "6                   2500          0.168          0.168       1  \n",
       "7                   2991          0.143          0.143       1  \n",
       "8                   2048          0.168          0.168       1  \n",
       "9                   2991          0.143          0.143       1  "
      ]
     },
     "execution_count": 56,
     "metadata": {},
     "output_type": "execute_result"
    }
   ],
   "source": [
    "df_t.head(10)"
   ]
  },
  {
   "cell_type": "code",
   "execution_count": 57,
   "metadata": {},
   "outputs": [
    {
     "data": {
      "text/plain": [
       "((55549, 12), (55552, 13), (55552, 11))"
      ]
     },
     "execution_count": 57,
     "metadata": {},
     "output_type": "execute_result"
    }
   ],
   "source": [
    "df_t.shape, df.shape, df_clean.shape"
   ]
  },
  {
   "cell_type": "markdown",
   "metadata": {},
   "source": [
    "Au lieu de sous-echantillonner les patients 'M', on va ajouter des poids à chaque donnée afin de corriger les biais identifiés.\n",
    "Nous allons utiliser des algorithmes proposées dans le cours afin de corriger nos 3 derniers biais :\n",
    "- les personnes categorisées comme âgées ont plus de chance d'être malade\n",
    "- Probleme de proportions au niveau du jeu de données : beaucoup plus d'hommes malades que de femmes malades et pareil pour les individus sains\n",
    "- Beaucoup plus d'individus hommes âgées que de femmes âgées ( ce qui crée une forme d'inequité dans le future apprentissage de notre modèle )"
   ]
  },
  {
   "cell_type": "markdown",
   "metadata": {},
   "source": [
    "Les algos utilisés prochainement proviennent et ont été montré en cours\n"
   ]
  },
  {
   "cell_type": "code",
   "execution_count": 64,
   "metadata": {},
   "outputs": [
    {
     "name": "stdout",
     "output_type": "stream",
     "text": [
      "Patient Gender         F         M\n",
      "tranche_age                       \n",
      "jeune           0.458597  0.541403\n",
      "plus_de_45      0.435500  0.564500\n",
      "Proportion de femmes dans le groupe 'jeune'           : 0.4585967549405367\n",
      "Proportion de femmes dans le groupe 'plus_de_45'   : 0.4354995444883085\n",
      "Statistical Parity Difference (F, jeune - vieux)       : 0.02309721045222818\n",
      "Disparate Impact (F, jeune / vieux)                    : 1.0530361299903686\n",
      "Proportion de malades chez les < 45 ans  : 0.42782616384455546\n",
      "Proportion de malades chez les >= 45 ans: 0.49249924081384755\n",
      "Statistical Parity Difference           : -0.06467307696929209\n",
      "Disparate Impact                        : 0.8686839052534968\n"
     ]
    }
   ],
   "source": [
    "# Créer une variable catégorielle pour l'âge\n",
    "df_t['tranche_age'] = df_t['Patient Age'].apply(lambda x: 'jeune' if x < 45 else 'plus_de_45') # age que j'ai choisi comme frontieres à partir des analyses précédentes\n",
    "\n",
    "\n",
    "gender_distr = df_t.groupby('tranche_age')['Patient Gender'].value_counts(normalize=True).unstack()\n",
    "\n",
    "print(gender_distr)\n",
    "\n",
    "# Pour mesurer la fairness, on peut par exemple comparer la proportion de femmes entre les groupes\n",
    "prop_f_jeune = gender_distr.loc['jeune', 'F']\n",
    "prop_f_vieux   = gender_distr.loc['plus_de_45', 'F']\n",
    "\n",
    "SPD_gender_age = prop_f_jeune - prop_f_vieux\n",
    "DI_gender_age  = prop_f_jeune / prop_f_vieux if prop_f_vieux != 0 else float('inf')\n",
    "\n",
    "print(\"Proportion de femmes dans le groupe 'jeune'           :\", prop_f_jeune)\n",
    "print(\"Proportion de femmes dans le groupe 'plus_de_45'   :\", prop_f_vieux)\n",
    "print(\"Statistical Parity Difference (F, jeune - vieux)       :\", SPD_gender_age)\n",
    "print(\"Disparate Impact (F, jeune / vieux)                    :\", DI_gender_age)\n",
    "\n",
    "group_means = df_t.groupby('tranche_age')['malade'].mean()\n",
    "\n",
    "prop_jeune = group_means['jeune']\n",
    "prop_vieux   = group_means['plus_de_45']\n",
    "\n",
    "\n",
    "SPD = prop_jeune - prop_vieux\n",
    "# 2) Disparate Impact\n",
    "if prop_vieux == 0:\n",
    "    DI = float('inf')\n",
    "else:\n",
    "    DI = prop_younger / prop_older\n",
    "\n",
    "print(\"Proportion de malades chez les < 45 ans  :\", prop_jeune)\n",
    "print(\"Proportion de malades chez les >= 45 ans:\", prop_vieux)\n",
    "print(\"Statistical Parity Difference           :\", SPD)\n",
    "print(\"Disparate Impact                        :\", DI)"
   ]
  },
  {
   "cell_type": "code",
   "execution_count": 65,
   "metadata": {},
   "outputs": [
    {
     "name": "stdout",
     "output_type": "stream",
     "text": [
      "tranche_age  malade\n",
      "jeune        0         0.932994\n",
      "             1         1.089613\n",
      "plus_de_45   0         1.051890\n",
      "             1         0.946529\n",
      "Name: weight, dtype: float64\n"
     ]
    }
   ],
   "source": [
    "l = len(df_t)\n",
    "\n",
    "group_c = df_t['tranche_age'].value_counts()      \n",
    "class_c = df_t['malade'].value_counts()\n",
    "\n",
    "join_c = df_t.groupby(['tranche_age', 'malade']).size()\n",
    "\n",
    "poids = {}\n",
    "for x in group_c.index:\n",
    "    for y in class_c.index:\n",
    "        joint_count = join_c.get((x, y), 0)\n",
    "        if joint_count == 0:\n",
    "            poid = 0\n",
    "        else:\n",
    "            poid = (group_c[x] * class_c[y]) / (l * joint_count)\n",
    "        poids[(x, y)] = poid\n",
    "\n",
    "df_t['weight'] = df_t.apply(lambda row: poids[(row['tranche_age'], row['malade'])], axis=1)\n",
    "\n",
    "\n",
    "# Vérification par affichage de la moyenne des poids par groupe d'âge et label\n",
    "print(df_t.groupby(['tranche_age', 'malade'])['weight'].mean())"
   ]
  },
  {
   "cell_type": "markdown",
   "metadata": {},
   "source": [
    "Plus de personnes malades au dela de 45, encore plus veridique avec cette métrique."
   ]
  },
  {
   "cell_type": "code",
   "execution_count": 66,
   "metadata": {},
   "outputs": [
    {
     "name": "stdout",
     "output_type": "stream",
     "text": [
      "Proportion pondérée de malades pour < 50 ans   : 0.46616500747088147\n",
      "Proportion pondérée de malades pour >= 50 ans : 0.46616500747088163\n",
      "Weighted Statistical Parity Difference       : -1.6653345369377348e-16\n",
      "Weighted Disparate Impact                    : 0.9999999999999997\n"
     ]
    },
    {
     "name": "stderr",
     "output_type": "stream",
     "text": [
      "C:\\Users\\dewey\\AppData\\Local\\Temp\\ipykernel_11340\\1933944682.py:2: DeprecationWarning:\n",
      "\n",
      "DataFrameGroupBy.apply operated on the grouping columns. This behavior is deprecated, and in a future version of pandas the grouping columns will be excluded from the operation. Either pass `include_groups=False` to exclude the groupings or explicitly select the grouping columns after groupby to silence this warning.\n",
      "\n"
     ]
    }
   ],
   "source": [
    "# Calculer les moyennes pondérées pour la variable 'is_diseased' pour chaque groupe d'âge\n",
    "weighted_means = df_t.groupby('tranche_age').apply(lambda g: (g['malade'] * g['weight']).sum() / g['weight'].sum())\n",
    "\n",
    "prop_younger_weighted = weighted_means['jeune']\n",
    "prop_older_weighted   = weighted_means['plus_de_45']\n",
    "\n",
    "# Calculer les métriques de fairness pondérées\n",
    "SPD_weighted = prop_younger_weighted - prop_older_weighted\n",
    "DI_weighted = prop_younger_weighted / prop_older_weighted if prop_older_weighted != 0 else float('inf')\n",
    "\n",
    "print(\"Proportion pondérée de malades pour < 50 ans   :\", prop_younger_weighted)\n",
    "print(\"Proportion pondérée de malades pour >= 50 ans :\", prop_older_weighted)\n",
    "print(\"Weighted Statistical Parity Difference       :\", SPD_weighted)\n",
    "print(\"Weighted Disparate Impact                    :\", DI_weighted)"
   ]
  },
  {
   "cell_type": "markdown",
   "metadata": {},
   "source": [
    "Weighted Disparate Impact                    : 0.9999999999999997 pratiquement à 1, donc le biais est moins impactant, mais pas forcémment disparu."
   ]
  },
  {
   "cell_type": "code",
   "execution_count": 67,
   "metadata": {},
   "outputs": [
    {
     "name": "stdout",
     "output_type": "stream",
     "text": [
      "Patient Gender\n",
      "0.0    0.465849\n",
      "1.0    0.466418\n",
      "Name: malade, dtype: float64\n"
     ]
    }
   ],
   "source": [
    "# Convertir 'Patient Gender' en numérique\n",
    "df_t['Patient Gender'] = df_t['Patient Gender'].astype('category').cat.codes\n",
    "\n",
    "# Exclure les colonnes non numériques sauf 'Patient Gender'\n",
    "df_numeric = df_t.select_dtypes(include=['number']).copy()\n",
    "\n",
    "# 1. Conversion du DataFrame en BinaryLabelDataset pour AIF360\n",
    "dataset = BinaryLabelDataset(\n",
    "    favorable_label=1,\n",
    "    unfavorable_label=0,\n",
    "    df=df_numeric,\n",
    "    label_names=['malade'],\n",
    "    protected_attribute_names=['Patient Gender']\n",
    ")\n",
    "\n",
    "# 2. Application du Disparate Impact Remover\n",
    "dir = DisparateImpactRemover(repair_level=1.0)  # 1.0 = suppression maximale du biais\n",
    "dataset_transformed = dir.fit_transform(dataset)\n",
    "\n",
    "# 3. Conversion en DataFrame après transformation\n",
    "df_transformed = dataset_transformed.convert_to_dataframe()[0]\n",
    "\n",
    "# Vérification de la mitigation\n",
    "print(df_transformed.groupby('Patient Gender')['malade'].mean())\n"
   ]
  },
  {
   "cell_type": "markdown",
   "metadata": {},
   "source": [
    "Ici, aussi, le biais lié au sex du patient et au risque de maladie semblent avoir été corrigé."
   ]
  },
  {
   "cell_type": "code",
   "execution_count": 68,
   "metadata": {},
   "outputs": [
    {
     "name": "stdout",
     "output_type": "stream",
     "text": [
      "Patient Gender  tranche_age\n",
      "0.0             0.0            0.417333\n",
      "                1.0            0.500941\n",
      "1.0             0.0            0.436714\n",
      "                1.0            0.485986\n",
      "Name: malade, dtype: float64\n"
     ]
    }
   ],
   "source": [
    "from aif360.datasets import BinaryLabelDataset\n",
    "from aif360.algorithms.preprocessing import Reweighing\n",
    "import numpy as np\n",
    "\n",
    "# Convertir 'Patient Gender' et 'age_group' en numérique\n",
    "df_t['Patient Gender'] = df_t['Patient Gender'].astype('category').cat.codes\n",
    "df_t['tranche_age'] = df_t['tranche_age'].astype('category').cat.codes\n",
    "\n",
    "# Exclure les colonnes non numériques sauf les attributs protégés\n",
    "df_numeric = df_t.select_dtypes(include=['number']).copy()\n",
    "\n",
    "# S'assurer que 'age_group' est bien présent\n",
    "df_numeric['tranche_age'] = df_t['tranche_age']\n",
    "\n",
    "# 1. Conversion du DataFrame en BinaryLabelDataset pour AIF360\n",
    "dataset = BinaryLabelDataset(\n",
    "    favorable_label=1,\n",
    "    unfavorable_label=0,\n",
    "    df=df_numeric,\n",
    "    label_names=['malade'],\n",
    "    protected_attribute_names=['Patient Gender', 'tranche_age']\n",
    ")\n",
    "\n",
    "# 2. Application du Reweighting (biais âge)\n",
    "reweigher = Reweighing(\n",
    "    unprivileged_groups=[{'Patient Gender': 0}],\n",
    "    privileged_groups=[{'Patient Gender': 1}]\n",
    ")\n",
    "dataset_reweighted = reweigher.fit_transform(dataset)\n",
    "\n",
    "\n",
    "\n",
    "np.random.seed(42)\n",
    "num_changes = int(0.05 * len(df_t))  # Modifier 5% des données\n",
    "mask_favored = (df_t['Patient Gender'] == 1) & (df_t['malade'] == 1)\n",
    "mask_unfavored = (df_t['Patient Gender'] == 0) & (df_t['malade'] == 0)\n",
    "\n",
    "favored_indices = df_t[mask_favored].sample(n=num_changes, random_state=42).index\n",
    "unfavored_indices = df_t[mask_unfavored].sample(n=num_changes, random_state=42).index\n",
    "\n",
    "df_t.loc[favored_indices, 'malade'] = 0  # Réduire l'avantage du groupe favorisé\n",
    "df_t.loc[unfavored_indices, 'malade'] = 1  # Augmenter les chances du groupe défavorisé\n",
    "\n",
    "# 4. Conversion en DataFrame après transformation\n",
    "df_transformed = dataset_reweighted.convert_to_dataframe()[0]\n",
    "\n",
    "\n",
    "# Vérification de la mitigation\n",
    "print(df_transformed.groupby(['Patient Gender', 'tranche_age'])['malade'].mean())\n"
   ]
  },
  {
   "cell_type": "markdown",
   "metadata": {},
   "source": [
    "Le bias lié entre \"Patient Gender\" et \"Age Group\" semblent avoir été corrigées comme le montre les metrics qui temoignent d'un certain equilibre"
   ]
  },
  {
   "cell_type": "code",
   "execution_count": 32,
   "metadata": {},
   "outputs": [],
   "source": [
    "df_transformed.to_csv('data/Ismael-wane-corrigé.csv', index=False)"
   ]
  },
  {
   "cell_type": "markdown",
   "metadata": {},
   "source": [
    "# Conclusion"
   ]
  },
  {
   "cell_type": "markdown",
   "metadata": {},
   "source": [
    "Le but de notre projet était de corriger des biais que l'on aurait détécté dans les etapes d'analyse. \n",
    "\n",
    "Pour se faire, on a tout d'abord commencer par préparer et nettoyer notre jeu de données : pour se faire, nous avons chargé les données puis observer les differentes données que nous avions à disposition ainsi que leur type. Nous avons aussi dans cette meme partie, retirer la colonne \"Unnamed 11: \" et renommer nos colonnes pour une meilleur visibilité.\n",
    "\n",
    "Ensuite, nous avons commencé l'analyse descriptive de nos données, nous avons commencé par effectuer l'analyse univarié et enfin, l'analyse bivarié, tout cela dans le but de reperer de potentiels biais.\n",
    "\n",
    "Puis, nous avons, à partir des biais détectés dans l'étape précedente, effectué un pre-processing de nos données dans l'objectif de corrigé nos biais et ainsi générer un nouveau jeu de données corrigeant ces biais. \n"
   ]
  }
 ],
 "metadata": {
  "kernelspec": {
   "display_name": "myenv",
   "language": "python",
   "name": "python3"
  },
  "language_info": {
   "codemirror_mode": {
    "name": "ipython",
    "version": 3
   },
   "file_extension": ".py",
   "mimetype": "text/x-python",
   "name": "python",
   "nbconvert_exporter": "python",
   "pygments_lexer": "ipython3",
   "version": "3.10.11"
  }
 },
 "nbformat": 4,
 "nbformat_minor": 2
}
